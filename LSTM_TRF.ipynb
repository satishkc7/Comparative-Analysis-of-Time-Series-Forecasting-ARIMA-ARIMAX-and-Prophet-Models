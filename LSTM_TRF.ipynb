{
  "cells": [
    {
      "cell_type": "code",
      "execution_count": null,
      "metadata": {
        "id": "GOESST47IVjm"
      },
      "outputs": [],
      "source": [
        "import yfinance as yf\n",
        "import pandas as pd\n",
        "import numpy as np\n",
        "import warnings\n",
        "import datetime\n",
        "import matplotlib.pyplot as plt\n",
        "import seaborn as sns\n",
        "import tensorflow as tf\n",
        "\n",
        "warnings.filterwarnings('ignore')\n",
        "\n",
        "from datetime import date\n",
        "\n",
        "from sklearn.preprocessing import MinMaxScaler\n",
        "from tensorflow.keras.models import Sequential\n",
        "from tensorflow.keras.layers import Bidirectional\n",
        "from tensorflow.keras.layers import BatchNormalization\n",
        "\n",
        "from tensorflow.keras.layers import LSTM, Dense, Dropout, Layer\n",
        "from tensorflow.keras.optimizers import Adam\n",
        "from keras.callbacks import ReduceLROnPlateau, EarlyStopping"
      ]
    },
    {
      "cell_type": "markdown",
      "metadata": {
        "id": "TMPvaRYHIVjn"
      },
      "source": [
        "Preprocessing Part"
      ]
    },
    {
      "cell_type": "code",
      "execution_count": null,
      "metadata": {
        "id": "UBG6KsF3IVjo"
      },
      "outputs": [],
      "source": [
        "start_date ='2014-01-01'\n",
        "end_date = '2024-12-12'\n",
        "#end_date = datetime.datetime.now().date()"
      ]
    },
    {
      "cell_type": "code",
      "execution_count": null,
      "metadata": {
        "id": "0V96RgN-IVjo"
      },
      "outputs": [],
      "source": [
        "def creating_features(data):\n",
        "  data = data.copy()\n",
        "  data.columns = ['_'.join(col).strip() if isinstance(col, tuple) else col for col in data.columns]\n",
        "  data = data.filter(regex='^Close')\n",
        "  #data['Date'] = data.index.date\n",
        "  #data['Date'] = pd.to_datetime(data['Date'])\n",
        "  return data"
      ]
    },
    {
      "cell_type": "code",
      "execution_count": null,
      "metadata": {
        "colab": {
          "base_uri": "https://localhost:8080/"
        },
        "id": "ogOkyi4xIVjo",
        "outputId": "90cb7838-21e4-46c2-d3f8-7d7e7d5d34a7"
      },
      "outputs": [
        {
          "output_type": "stream",
          "name": "stderr",
          "text": [
            "\r[*********************100%***********************]  1 of 1 completed\n"
          ]
        }
      ],
      "source": [
        "#Features_agglomorated\n",
        "tickers = ['GC=F']\n",
        "\n",
        "# Download historical data\n",
        "features = yf.download(tickers, start= start_date, end=end_date, interval='1d')\n",
        "#features = yf.download(tickers, end=end_date, interval='1d')"
      ]
    },
    {
      "cell_type": "code",
      "execution_count": null,
      "metadata": {
        "id": "z3btL_XAIVjp"
      },
      "outputs": [],
      "source": [
        "final_data= creating_features(features).dropna()"
      ]
    },
    {
      "cell_type": "code",
      "source": [
        "final_data.shape"
      ],
      "metadata": {
        "colab": {
          "base_uri": "https://localhost:8080/"
        },
        "id": "iP_FFBC8HH_-",
        "outputId": "042e69b9-a067-49a9-dcf7-e668d2c82707"
      },
      "execution_count": null,
      "outputs": [
        {
          "output_type": "execute_result",
          "data": {
            "text/plain": [
              "(2752, 1)"
            ]
          },
          "metadata": {},
          "execution_count": 6
        }
      ]
    },
    {
      "cell_type": "code",
      "source": [
        "final_data.head(7)"
      ],
      "metadata": {
        "colab": {
          "base_uri": "https://localhost:8080/",
          "height": 300
        },
        "id": "AtlLCxfAKfsQ",
        "outputId": "64d150db-a054-4f49-ab87-2dab60f95c41"
      },
      "execution_count": null,
      "outputs": [
        {
          "output_type": "execute_result",
          "data": {
            "text/plain": [
              "             Close_GC=F\n",
              "Date                   \n",
              "2014-01-02  1225.000000\n",
              "2014-01-03  1238.400024\n",
              "2014-01-06  1237.800049\n",
              "2014-01-07  1229.400024\n",
              "2014-01-08  1225.300049\n",
              "2014-01-09  1229.300049\n",
              "2014-01-10  1246.699951"
            ],
            "text/html": [
              "\n",
              "  <div id=\"df-18b4107b-8205-49fa-a812-732417fc4a6d\" class=\"colab-df-container\">\n",
              "    <div>\n",
              "<style scoped>\n",
              "    .dataframe tbody tr th:only-of-type {\n",
              "        vertical-align: middle;\n",
              "    }\n",
              "\n",
              "    .dataframe tbody tr th {\n",
              "        vertical-align: top;\n",
              "    }\n",
              "\n",
              "    .dataframe thead th {\n",
              "        text-align: right;\n",
              "    }\n",
              "</style>\n",
              "<table border=\"1\" class=\"dataframe\">\n",
              "  <thead>\n",
              "    <tr style=\"text-align: right;\">\n",
              "      <th></th>\n",
              "      <th>Close_GC=F</th>\n",
              "    </tr>\n",
              "    <tr>\n",
              "      <th>Date</th>\n",
              "      <th></th>\n",
              "    </tr>\n",
              "  </thead>\n",
              "  <tbody>\n",
              "    <tr>\n",
              "      <th>2014-01-02</th>\n",
              "      <td>1225.000000</td>\n",
              "    </tr>\n",
              "    <tr>\n",
              "      <th>2014-01-03</th>\n",
              "      <td>1238.400024</td>\n",
              "    </tr>\n",
              "    <tr>\n",
              "      <th>2014-01-06</th>\n",
              "      <td>1237.800049</td>\n",
              "    </tr>\n",
              "    <tr>\n",
              "      <th>2014-01-07</th>\n",
              "      <td>1229.400024</td>\n",
              "    </tr>\n",
              "    <tr>\n",
              "      <th>2014-01-08</th>\n",
              "      <td>1225.300049</td>\n",
              "    </tr>\n",
              "    <tr>\n",
              "      <th>2014-01-09</th>\n",
              "      <td>1229.300049</td>\n",
              "    </tr>\n",
              "    <tr>\n",
              "      <th>2014-01-10</th>\n",
              "      <td>1246.699951</td>\n",
              "    </tr>\n",
              "  </tbody>\n",
              "</table>\n",
              "</div>\n",
              "    <div class=\"colab-df-buttons\">\n",
              "\n",
              "  <div class=\"colab-df-container\">\n",
              "    <button class=\"colab-df-convert\" onclick=\"convertToInteractive('df-18b4107b-8205-49fa-a812-732417fc4a6d')\"\n",
              "            title=\"Convert this dataframe to an interactive table.\"\n",
              "            style=\"display:none;\">\n",
              "\n",
              "  <svg xmlns=\"http://www.w3.org/2000/svg\" height=\"24px\" viewBox=\"0 -960 960 960\">\n",
              "    <path d=\"M120-120v-720h720v720H120Zm60-500h600v-160H180v160Zm220 220h160v-160H400v160Zm0 220h160v-160H400v160ZM180-400h160v-160H180v160Zm440 0h160v-160H620v160ZM180-180h160v-160H180v160Zm440 0h160v-160H620v160Z\"/>\n",
              "  </svg>\n",
              "    </button>\n",
              "\n",
              "  <style>\n",
              "    .colab-df-container {\n",
              "      display:flex;\n",
              "      gap: 12px;\n",
              "    }\n",
              "\n",
              "    .colab-df-convert {\n",
              "      background-color: #E8F0FE;\n",
              "      border: none;\n",
              "      border-radius: 50%;\n",
              "      cursor: pointer;\n",
              "      display: none;\n",
              "      fill: #1967D2;\n",
              "      height: 32px;\n",
              "      padding: 0 0 0 0;\n",
              "      width: 32px;\n",
              "    }\n",
              "\n",
              "    .colab-df-convert:hover {\n",
              "      background-color: #E2EBFA;\n",
              "      box-shadow: 0px 1px 2px rgba(60, 64, 67, 0.3), 0px 1px 3px 1px rgba(60, 64, 67, 0.15);\n",
              "      fill: #174EA6;\n",
              "    }\n",
              "\n",
              "    .colab-df-buttons div {\n",
              "      margin-bottom: 4px;\n",
              "    }\n",
              "\n",
              "    [theme=dark] .colab-df-convert {\n",
              "      background-color: #3B4455;\n",
              "      fill: #D2E3FC;\n",
              "    }\n",
              "\n",
              "    [theme=dark] .colab-df-convert:hover {\n",
              "      background-color: #434B5C;\n",
              "      box-shadow: 0px 1px 3px 1px rgba(0, 0, 0, 0.15);\n",
              "      filter: drop-shadow(0px 1px 2px rgba(0, 0, 0, 0.3));\n",
              "      fill: #FFFFFF;\n",
              "    }\n",
              "  </style>\n",
              "\n",
              "    <script>\n",
              "      const buttonEl =\n",
              "        document.querySelector('#df-18b4107b-8205-49fa-a812-732417fc4a6d button.colab-df-convert');\n",
              "      buttonEl.style.display =\n",
              "        google.colab.kernel.accessAllowed ? 'block' : 'none';\n",
              "\n",
              "      async function convertToInteractive(key) {\n",
              "        const element = document.querySelector('#df-18b4107b-8205-49fa-a812-732417fc4a6d');\n",
              "        const dataTable =\n",
              "          await google.colab.kernel.invokeFunction('convertToInteractive',\n",
              "                                                    [key], {});\n",
              "        if (!dataTable) return;\n",
              "\n",
              "        const docLinkHtml = 'Like what you see? Visit the ' +\n",
              "          '<a target=\"_blank\" href=https://colab.research.google.com/notebooks/data_table.ipynb>data table notebook</a>'\n",
              "          + ' to learn more about interactive tables.';\n",
              "        element.innerHTML = '';\n",
              "        dataTable['output_type'] = 'display_data';\n",
              "        await google.colab.output.renderOutput(dataTable, element);\n",
              "        const docLink = document.createElement('div');\n",
              "        docLink.innerHTML = docLinkHtml;\n",
              "        element.appendChild(docLink);\n",
              "      }\n",
              "    </script>\n",
              "  </div>\n",
              "\n",
              "\n",
              "<div id=\"df-2e25ddb8-b3f6-4ec0-8731-cb91ee6f23d4\">\n",
              "  <button class=\"colab-df-quickchart\" onclick=\"quickchart('df-2e25ddb8-b3f6-4ec0-8731-cb91ee6f23d4')\"\n",
              "            title=\"Suggest charts\"\n",
              "            style=\"display:none;\">\n",
              "\n",
              "<svg xmlns=\"http://www.w3.org/2000/svg\" height=\"24px\"viewBox=\"0 0 24 24\"\n",
              "     width=\"24px\">\n",
              "    <g>\n",
              "        <path d=\"M19 3H5c-1.1 0-2 .9-2 2v14c0 1.1.9 2 2 2h14c1.1 0 2-.9 2-2V5c0-1.1-.9-2-2-2zM9 17H7v-7h2v7zm4 0h-2V7h2v10zm4 0h-2v-4h2v4z\"/>\n",
              "    </g>\n",
              "</svg>\n",
              "  </button>\n",
              "\n",
              "<style>\n",
              "  .colab-df-quickchart {\n",
              "      --bg-color: #E8F0FE;\n",
              "      --fill-color: #1967D2;\n",
              "      --hover-bg-color: #E2EBFA;\n",
              "      --hover-fill-color: #174EA6;\n",
              "      --disabled-fill-color: #AAA;\n",
              "      --disabled-bg-color: #DDD;\n",
              "  }\n",
              "\n",
              "  [theme=dark] .colab-df-quickchart {\n",
              "      --bg-color: #3B4455;\n",
              "      --fill-color: #D2E3FC;\n",
              "      --hover-bg-color: #434B5C;\n",
              "      --hover-fill-color: #FFFFFF;\n",
              "      --disabled-bg-color: #3B4455;\n",
              "      --disabled-fill-color: #666;\n",
              "  }\n",
              "\n",
              "  .colab-df-quickchart {\n",
              "    background-color: var(--bg-color);\n",
              "    border: none;\n",
              "    border-radius: 50%;\n",
              "    cursor: pointer;\n",
              "    display: none;\n",
              "    fill: var(--fill-color);\n",
              "    height: 32px;\n",
              "    padding: 0;\n",
              "    width: 32px;\n",
              "  }\n",
              "\n",
              "  .colab-df-quickchart:hover {\n",
              "    background-color: var(--hover-bg-color);\n",
              "    box-shadow: 0 1px 2px rgba(60, 64, 67, 0.3), 0 1px 3px 1px rgba(60, 64, 67, 0.15);\n",
              "    fill: var(--button-hover-fill-color);\n",
              "  }\n",
              "\n",
              "  .colab-df-quickchart-complete:disabled,\n",
              "  .colab-df-quickchart-complete:disabled:hover {\n",
              "    background-color: var(--disabled-bg-color);\n",
              "    fill: var(--disabled-fill-color);\n",
              "    box-shadow: none;\n",
              "  }\n",
              "\n",
              "  .colab-df-spinner {\n",
              "    border: 2px solid var(--fill-color);\n",
              "    border-color: transparent;\n",
              "    border-bottom-color: var(--fill-color);\n",
              "    animation:\n",
              "      spin 1s steps(1) infinite;\n",
              "  }\n",
              "\n",
              "  @keyframes spin {\n",
              "    0% {\n",
              "      border-color: transparent;\n",
              "      border-bottom-color: var(--fill-color);\n",
              "      border-left-color: var(--fill-color);\n",
              "    }\n",
              "    20% {\n",
              "      border-color: transparent;\n",
              "      border-left-color: var(--fill-color);\n",
              "      border-top-color: var(--fill-color);\n",
              "    }\n",
              "    30% {\n",
              "      border-color: transparent;\n",
              "      border-left-color: var(--fill-color);\n",
              "      border-top-color: var(--fill-color);\n",
              "      border-right-color: var(--fill-color);\n",
              "    }\n",
              "    40% {\n",
              "      border-color: transparent;\n",
              "      border-right-color: var(--fill-color);\n",
              "      border-top-color: var(--fill-color);\n",
              "    }\n",
              "    60% {\n",
              "      border-color: transparent;\n",
              "      border-right-color: var(--fill-color);\n",
              "    }\n",
              "    80% {\n",
              "      border-color: transparent;\n",
              "      border-right-color: var(--fill-color);\n",
              "      border-bottom-color: var(--fill-color);\n",
              "    }\n",
              "    90% {\n",
              "      border-color: transparent;\n",
              "      border-bottom-color: var(--fill-color);\n",
              "    }\n",
              "  }\n",
              "</style>\n",
              "\n",
              "  <script>\n",
              "    async function quickchart(key) {\n",
              "      const quickchartButtonEl =\n",
              "        document.querySelector('#' + key + ' button');\n",
              "      quickchartButtonEl.disabled = true;  // To prevent multiple clicks.\n",
              "      quickchartButtonEl.classList.add('colab-df-spinner');\n",
              "      try {\n",
              "        const charts = await google.colab.kernel.invokeFunction(\n",
              "            'suggestCharts', [key], {});\n",
              "      } catch (error) {\n",
              "        console.error('Error during call to suggestCharts:', error);\n",
              "      }\n",
              "      quickchartButtonEl.classList.remove('colab-df-spinner');\n",
              "      quickchartButtonEl.classList.add('colab-df-quickchart-complete');\n",
              "    }\n",
              "    (() => {\n",
              "      let quickchartButtonEl =\n",
              "        document.querySelector('#df-2e25ddb8-b3f6-4ec0-8731-cb91ee6f23d4 button');\n",
              "      quickchartButtonEl.style.display =\n",
              "        google.colab.kernel.accessAllowed ? 'block' : 'none';\n",
              "    })();\n",
              "  </script>\n",
              "</div>\n",
              "\n",
              "    </div>\n",
              "  </div>\n"
            ],
            "application/vnd.google.colaboratory.intrinsic+json": {
              "type": "dataframe",
              "variable_name": "final_data",
              "summary": "{\n  \"name\": \"final_data\",\n  \"rows\": 2752,\n  \"fields\": [\n    {\n      \"column\": \"Date\",\n      \"properties\": {\n        \"dtype\": \"date\",\n        \"min\": \"2014-01-02 00:00:00\",\n        \"max\": \"2024-12-11 00:00:00\",\n        \"num_unique_values\": 2752,\n        \"samples\": [\n          \"2019-05-30 00:00:00\",\n          \"2015-12-07 00:00:00\",\n          \"2015-08-17 00:00:00\"\n        ],\n        \"semantic_type\": \"\",\n        \"description\": \"\"\n      }\n    },\n    {\n      \"column\": \"Close_GC=F\",\n      \"properties\": {\n        \"dtype\": \"number\",\n        \"std\": 381.42277242814487,\n        \"min\": 1050.800048828125,\n        \"max\": 2788.5,\n        \"num_unique_values\": 2263,\n        \"samples\": [\n          1816.4000244140625,\n          1709.9000244140625,\n          1143.800048828125\n        ],\n        \"semantic_type\": \"\",\n        \"description\": \"\"\n      }\n    }\n  ]\n}"
            }
          },
          "metadata": {},
          "execution_count": 7
        }
      ]
    },
    {
      "cell_type": "code",
      "source": [
        "seq_length = 63"
      ],
      "metadata": {
        "id": "WPfzrHu3YtPo"
      },
      "execution_count": null,
      "outputs": []
    },
    {
      "cell_type": "code",
      "source": [
        "def create_sequences(data, seq_len):\n",
        "    X, y = [], []\n",
        "    for i in range(len(data) - seq_len):\n",
        "        X.append(data[i:(i + seq_len)])\n",
        "        y.append(data[i + seq_len])\n",
        "    return np.array(X), np.array(y)"
      ],
      "metadata": {
        "id": "QK4uBps6KG7x"
      },
      "execution_count": null,
      "outputs": []
    },
    {
      "cell_type": "code",
      "source": [
        "def prepare_data(df, feature_column, seq_len=seq_length):\n",
        "    data = df[feature_column].values.reshape(-1, 1)\n",
        "\n",
        "    X, y = create_sequences(data, seq_len)\n",
        "\n",
        "    train_size = int(len(X) * 0.7)\n",
        "    val_size = int(len(X) * 0.2)\n",
        "\n",
        "    X_train = X[:train_size]\n",
        "    y_train = y[:train_size]\n",
        "\n",
        "    X_val = X[train_size:train_size+val_size]\n",
        "    y_val = y[train_size:train_size+val_size]\n",
        "\n",
        "    X_test = X[train_size+val_size:]\n",
        "    y_test = y[train_size+val_size:]\n",
        "\n",
        "    scaler = MinMaxScaler()\n",
        "\n",
        "    X_train_reshaped = X_train.reshape(-1, 1)\n",
        "    scaler = scaler.fit(X_train_reshaped)\n",
        "\n",
        "    X_train_scaled = scaler.transform(X_train_reshaped).reshape(X_train.shape)\n",
        "    X_val_scaled = scaler.transform(X_val.reshape(-1, 1)).reshape(X_val.shape)\n",
        "    X_test_scaled = scaler.transform(X_test.reshape(-1, 1)).reshape(X_test.shape)\n",
        "\n",
        "    y_train_scaled = scaler.transform(y_train)\n",
        "    y_val_scaled = scaler.transform(y_val)\n",
        "    y_test_scaled = scaler.transform(y_test)\n",
        "\n",
        "    return X_train_scaled, X_val_scaled, X_test_scaled, y_train_scaled, y_val_scaled, y_test_scaled, scaler"
      ],
      "metadata": {
        "id": "fgCqZNGwHx57"
      },
      "execution_count": null,
      "outputs": []
    },
    {
      "cell_type": "code",
      "source": [
        "def forecast_future(model, last_sequence, scaler, horizon):\n",
        "\n",
        "    future_predictions = []\n",
        "    current_sequence = last_sequence.copy()\n",
        "\n",
        "    for _ in range(horizon):\n",
        "\n",
        "        next_pred = model.predict(current_sequence.reshape(1, -1, 1), verbose=0)\n",
        "        future_predictions.append(next_pred[0, 0])\n",
        "\n",
        "        current_sequence = np.roll(current_sequence, -1)\n",
        "        current_sequence[-1] = next_pred\n",
        "\n",
        "    future_predictions = np.array(future_predictions).reshape(-1, 1)\n",
        "    future_predictions = scaler.inverse_transform(future_predictions)\n",
        "\n",
        "    return future_predictions"
      ],
      "metadata": {
        "id": "UapyvPkVJSix"
      },
      "execution_count": null,
      "outputs": []
    },
    {
      "cell_type": "code",
      "source": [
        "class AttentionLayer(Layer):\n",
        "   def __init__(self, **kwargs):\n",
        "       super(AttentionLayer, self).__init__(**kwargs)\n",
        "\n",
        "   def build(self, input_shape):\n",
        "       self.W = self.add_weight(name='attention_weight',\n",
        "                               shape=(input_shape[-1], 1),\n",
        "                               initializer='random_normal',\n",
        "                               trainable=True)\n",
        "       self.b = self.add_weight(name='attention_bias',\n",
        "                               shape=(input_shape[1], 1),\n",
        "                               initializer='zeros',\n",
        "                               trainable=True)\n",
        "\n",
        "   def call(self, inputs):\n",
        "       e = tf.tanh(tf.matmul(inputs, self.W) + self.b)\n",
        "       a = tf.nn.softmax(e, axis=1)\n",
        "       output = inputs * a\n",
        "       return tf.reduce_sum(output, axis=1)"
      ],
      "metadata": {
        "id": "Y9a-5XVMdH-U"
      },
      "execution_count": null,
      "outputs": []
    },
    {
      "cell_type": "code",
      "source": [
        "def lstm_trf(seq_len):\n",
        "  model2 = Sequential([\n",
        "   Bidirectional(LSTM(100, activation='tanh', return_sequences=True, input_shape=(seq_len,1))),\n",
        "   BatchNormalization(),\n",
        "   AttentionLayer(),\n",
        "   Dropout(0.3),\n",
        "\n",
        "   Dense(50, activation='relu'),\n",
        "   BatchNormalization(),\n",
        "   Dropout(0.3),\n",
        "   Dense(1)\n",
        "   ])\n",
        "\n",
        "  optimizer = Adam(learning_rate=0.001)\n",
        "  model2.compile(optimizer=optimizer, loss='huber', metrics=['mae'])\n",
        "  return model2"
      ],
      "metadata": {
        "id": "4KrGTuiMF_Jk"
      },
      "execution_count": null,
      "outputs": []
    },
    {
      "cell_type": "markdown",
      "source": [],
      "metadata": {
        "id": "_5ozX8VcGnHM"
      }
    },
    {
      "cell_type": "code",
      "source": [
        "X_train, X_val, X_test, y_train, y_val, y_test, scaler = prepare_data(final_data, feature_column='Close_GC=F', seq_len=seq_length)"
      ],
      "metadata": {
        "id": "LI6D9kR3J6R4"
      },
      "execution_count": null,
      "outputs": []
    },
    {
      "cell_type": "code",
      "source": [
        "X_train.shape, X_val.shape, X_test.shape, y_train.shape, y_val.shape, y_test.shape"
      ],
      "metadata": {
        "colab": {
          "base_uri": "https://localhost:8080/"
        },
        "id": "otdAJVOpSPaV",
        "outputId": "a9404268-3b88-466f-fa83-72c4166adf45"
      },
      "execution_count": null,
      "outputs": [
        {
          "output_type": "execute_result",
          "data": {
            "text/plain": [
              "((1882, 63, 1), (537, 63, 1), (270, 63, 1), (1882, 1), (537, 1), (270, 1))"
            ]
          },
          "metadata": {},
          "execution_count": 15
        }
      ]
    },
    {
      "cell_type": "code",
      "source": [
        "early_stopping = EarlyStopping(patience=10, restore_best_weights=True)\n",
        "lr_reducer = ReduceLROnPlateau(factor=0.5, patience=5)\n"
      ],
      "metadata": {
        "id": "60sJtkmkSW3A"
      },
      "execution_count": null,
      "outputs": []
    },
    {
      "cell_type": "code",
      "source": [
        "model_lstm_trf = lstm_trf(seq_length)"
      ],
      "metadata": {
        "id": "cm8YhXm5Kq5_"
      },
      "execution_count": null,
      "outputs": []
    },
    {
      "cell_type": "code",
      "source": [
        "history_lstm_trf = model_lstm_trf.fit(X_train, y_train,\n",
        "                  epochs= 50,\n",
        "                  batch_size=32,\n",
        "                  validation_data=(X_val, y_val),\n",
        "                  callbacks=[early_stopping, lr_reducer],\n",
        "                  verbose=1)"
      ],
      "metadata": {
        "id": "cZK0fasaGOFA",
        "colab": {
          "base_uri": "https://localhost:8080/"
        },
        "outputId": "48494a09-d68a-45e0-a649-ce3f949c888a"
      },
      "execution_count": null,
      "outputs": [
        {
          "output_type": "stream",
          "name": "stdout",
          "text": [
            "Epoch 1/50\n",
            "\u001b[1m59/59\u001b[0m \u001b[32m━━━━━━━━━━━━━━━━━━━━\u001b[0m\u001b[37m\u001b[0m \u001b[1m17s\u001b[0m 121ms/step - loss: 0.5315 - mae: 0.8938 - val_loss: 0.1904 - val_mae: 0.6095 - learning_rate: 0.0010\n",
            "Epoch 2/50\n",
            "\u001b[1m59/59\u001b[0m \u001b[32m━━━━━━━━━━━━━━━━━━━━\u001b[0m\u001b[37m\u001b[0m \u001b[1m8s\u001b[0m 80ms/step - loss: 0.3059 - mae: 0.6280 - val_loss: 0.1306 - val_mae: 0.5033 - learning_rate: 0.0010\n",
            "Epoch 3/50\n",
            "\u001b[1m59/59\u001b[0m \u001b[32m━━━━━━━━━━━━━━━━━━━━\u001b[0m\u001b[37m\u001b[0m \u001b[1m7s\u001b[0m 111ms/step - loss: 0.2254 - mae: 0.5119 - val_loss: 0.0792 - val_mae: 0.3872 - learning_rate: 0.0010\n",
            "Epoch 4/50\n",
            "\u001b[1m59/59\u001b[0m \u001b[32m━━━━━━━━━━━━━━━━━━━━\u001b[0m\u001b[37m\u001b[0m \u001b[1m9s\u001b[0m 92ms/step - loss: 0.1785 - mae: 0.4555 - val_loss: 0.0979 - val_mae: 0.4328 - learning_rate: 0.0010\n",
            "Epoch 5/50\n",
            "\u001b[1m59/59\u001b[0m \u001b[32m━━━━━━━━━━━━━━━━━━━━\u001b[0m\u001b[37m\u001b[0m \u001b[1m10s\u001b[0m 82ms/step - loss: 0.1404 - mae: 0.3860 - val_loss: 0.0613 - val_mae: 0.3389 - learning_rate: 0.0010\n",
            "Epoch 6/50\n",
            "\u001b[1m59/59\u001b[0m \u001b[32m━━━━━━━━━━━━━━━━━━━━\u001b[0m\u001b[37m\u001b[0m \u001b[1m7s\u001b[0m 114ms/step - loss: 0.1113 - mae: 0.3455 - val_loss: 0.0669 - val_mae: 0.3561 - learning_rate: 0.0010\n",
            "Epoch 7/50\n",
            "\u001b[1m59/59\u001b[0m \u001b[32m━━━━━━━━━━━━━━━━━━━━\u001b[0m\u001b[37m\u001b[0m \u001b[1m8s\u001b[0m 81ms/step - loss: 0.0895 - mae: 0.3049 - val_loss: 0.0364 - val_mae: 0.2572 - learning_rate: 0.0010\n",
            "Epoch 8/50\n",
            "\u001b[1m59/59\u001b[0m \u001b[32m━━━━━━━━━━━━━━━━━━━━\u001b[0m\u001b[37m\u001b[0m \u001b[1m7s\u001b[0m 115ms/step - loss: 0.0632 - mae: 0.2555 - val_loss: 0.0283 - val_mae: 0.2256 - learning_rate: 0.0010\n",
            "Epoch 9/50\n",
            "\u001b[1m59/59\u001b[0m \u001b[32m━━━━━━━━━━━━━━━━━━━━\u001b[0m\u001b[37m\u001b[0m \u001b[1m5s\u001b[0m 82ms/step - loss: 0.0509 - mae: 0.2251 - val_loss: 0.0125 - val_mae: 0.1408 - learning_rate: 0.0010\n",
            "Epoch 10/50\n",
            "\u001b[1m59/59\u001b[0m \u001b[32m━━━━━━━━━━━━━━━━━━━━\u001b[0m\u001b[37m\u001b[0m \u001b[1m6s\u001b[0m 94ms/step - loss: 0.0431 - mae: 0.2112 - val_loss: 0.0197 - val_mae: 0.1858 - learning_rate: 0.0010\n",
            "Epoch 11/50\n",
            "\u001b[1m59/59\u001b[0m \u001b[32m━━━━━━━━━━━━━━━━━━━━\u001b[0m\u001b[37m\u001b[0m \u001b[1m10s\u001b[0m 98ms/step - loss: 0.0295 - mae: 0.1757 - val_loss: 0.0122 - val_mae: 0.1410 - learning_rate: 0.0010\n",
            "Epoch 12/50\n",
            "\u001b[1m59/59\u001b[0m \u001b[32m━━━━━━━━━━━━━━━━━━━━\u001b[0m\u001b[37m\u001b[0m \u001b[1m7s\u001b[0m 113ms/step - loss: 0.0220 - mae: 0.1482 - val_loss: 0.0077 - val_mae: 0.1096 - learning_rate: 0.0010\n",
            "Epoch 13/50\n",
            "\u001b[1m59/59\u001b[0m \u001b[32m━━━━━━━━━━━━━━━━━━━━\u001b[0m\u001b[37m\u001b[0m \u001b[1m5s\u001b[0m 82ms/step - loss: 0.0198 - mae: 0.1432 - val_loss: 0.0037 - val_mae: 0.0712 - learning_rate: 0.0010\n",
            "Epoch 14/50\n",
            "\u001b[1m59/59\u001b[0m \u001b[32m━━━━━━━━━━━━━━━━━━━━\u001b[0m\u001b[37m\u001b[0m \u001b[1m6s\u001b[0m 103ms/step - loss: 0.0146 - mae: 0.1260 - val_loss: 0.0038 - val_mae: 0.0721 - learning_rate: 0.0010\n",
            "Epoch 15/50\n",
            "\u001b[1m59/59\u001b[0m \u001b[32m━━━━━━━━━━━━━━━━━━━━\u001b[0m\u001b[37m\u001b[0m \u001b[1m5s\u001b[0m 86ms/step - loss: 0.0108 - mae: 0.1057 - val_loss: 0.0020 - val_mae: 0.0494 - learning_rate: 0.0010\n",
            "Epoch 16/50\n",
            "\u001b[1m59/59\u001b[0m \u001b[32m━━━━━━━━━━━━━━━━━━━━\u001b[0m\u001b[37m\u001b[0m \u001b[1m12s\u001b[0m 114ms/step - loss: 0.0100 - mae: 0.0991 - val_loss: 0.0017 - val_mae: 0.0466 - learning_rate: 0.0010\n",
            "Epoch 17/50\n",
            "\u001b[1m59/59\u001b[0m \u001b[32m━━━━━━━━━━━━━━━━━━━━\u001b[0m\u001b[37m\u001b[0m \u001b[1m5s\u001b[0m 82ms/step - loss: 0.0064 - mae: 0.0843 - val_loss: 0.0019 - val_mae: 0.0493 - learning_rate: 0.0010\n",
            "Epoch 18/50\n",
            "\u001b[1m59/59\u001b[0m \u001b[32m━━━━━━━━━━━━━━━━━━━━\u001b[0m\u001b[37m\u001b[0m \u001b[1m6s\u001b[0m 97ms/step - loss: 0.0055 - mae: 0.0796 - val_loss: 0.0018 - val_mae: 0.0480 - learning_rate: 0.0010\n",
            "Epoch 19/50\n",
            "\u001b[1m59/59\u001b[0m \u001b[32m━━━━━━━━━━━━━━━━━━━━\u001b[0m\u001b[37m\u001b[0m \u001b[1m9s\u001b[0m 81ms/step - loss: 0.0049 - mae: 0.0732 - val_loss: 0.0013 - val_mae: 0.0412 - learning_rate: 0.0010\n",
            "Epoch 20/50\n",
            "\u001b[1m59/59\u001b[0m \u001b[32m━━━━━━━━━━━━━━━━━━━━\u001b[0m\u001b[37m\u001b[0m \u001b[1m7s\u001b[0m 113ms/step - loss: 0.0040 - mae: 0.0664 - val_loss: 0.0015 - val_mae: 0.0432 - learning_rate: 0.0010\n",
            "Epoch 21/50\n",
            "\u001b[1m59/59\u001b[0m \u001b[32m━━━━━━━━━━━━━━━━━━━━\u001b[0m\u001b[37m\u001b[0m \u001b[1m8s\u001b[0m 81ms/step - loss: 0.0048 - mae: 0.0714 - val_loss: 0.0023 - val_mae: 0.0555 - learning_rate: 0.0010\n",
            "Epoch 22/50\n",
            "\u001b[1m59/59\u001b[0m \u001b[32m━━━━━━━━━━━━━━━━━━━━\u001b[0m\u001b[37m\u001b[0m \u001b[1m7s\u001b[0m 114ms/step - loss: 0.0038 - mae: 0.0651 - val_loss: 0.0013 - val_mae: 0.0411 - learning_rate: 0.0010\n",
            "Epoch 23/50\n",
            "\u001b[1m59/59\u001b[0m \u001b[32m━━━━━━━━━━━━━━━━━━━━\u001b[0m\u001b[37m\u001b[0m \u001b[1m8s\u001b[0m 82ms/step - loss: 0.0034 - mae: 0.0616 - val_loss: 0.0018 - val_mae: 0.0509 - learning_rate: 0.0010\n",
            "Epoch 24/50\n",
            "\u001b[1m59/59\u001b[0m \u001b[32m━━━━━━━━━━━━━━━━━━━━\u001b[0m\u001b[37m\u001b[0m \u001b[1m7s\u001b[0m 111ms/step - loss: 0.0028 - mae: 0.0572 - val_loss: 0.0014 - val_mae: 0.0423 - learning_rate: 0.0010\n",
            "Epoch 25/50\n",
            "\u001b[1m59/59\u001b[0m \u001b[32m━━━━━━━━━━━━━━━━━━━━\u001b[0m\u001b[37m\u001b[0m \u001b[1m9s\u001b[0m 90ms/step - loss: 0.0032 - mae: 0.0589 - val_loss: 0.0014 - val_mae: 0.0428 - learning_rate: 5.0000e-04\n",
            "Epoch 26/50\n",
            "\u001b[1m59/59\u001b[0m \u001b[32m━━━━━━━━━━━━━━━━━━━━\u001b[0m\u001b[37m\u001b[0m \u001b[1m10s\u001b[0m 82ms/step - loss: 0.0027 - mae: 0.0540 - val_loss: 0.0012 - val_mae: 0.0409 - learning_rate: 5.0000e-04\n",
            "Epoch 27/50\n",
            "\u001b[1m59/59\u001b[0m \u001b[32m━━━━━━━━━━━━━━━━━━━━\u001b[0m\u001b[37m\u001b[0m \u001b[1m7s\u001b[0m 114ms/step - loss: 0.0027 - mae: 0.0556 - val_loss: 0.0015 - val_mae: 0.0439 - learning_rate: 5.0000e-04\n",
            "Epoch 28/50\n",
            "\u001b[1m59/59\u001b[0m \u001b[32m━━━━━━━━━━━━━━━━━━━━\u001b[0m\u001b[37m\u001b[0m \u001b[1m5s\u001b[0m 82ms/step - loss: 0.0035 - mae: 0.0588 - val_loss: 0.0012 - val_mae: 0.0397 - learning_rate: 5.0000e-04\n",
            "Epoch 29/50\n",
            "\u001b[1m59/59\u001b[0m \u001b[32m━━━━━━━━━━━━━━━━━━━━\u001b[0m\u001b[37m\u001b[0m \u001b[1m6s\u001b[0m 92ms/step - loss: 0.0029 - mae: 0.0568 - val_loss: 0.0012 - val_mae: 0.0396 - learning_rate: 5.0000e-04\n",
            "Epoch 30/50\n",
            "\u001b[1m59/59\u001b[0m \u001b[32m━━━━━━━━━━━━━━━━━━━━\u001b[0m\u001b[37m\u001b[0m \u001b[1m10s\u001b[0m 82ms/step - loss: 0.0023 - mae: 0.0522 - val_loss: 0.0012 - val_mae: 0.0390 - learning_rate: 2.5000e-04\n",
            "Epoch 31/50\n",
            "\u001b[1m59/59\u001b[0m \u001b[32m━━━━━━━━━━━━━━━━━━━━\u001b[0m\u001b[37m\u001b[0m \u001b[1m7s\u001b[0m 114ms/step - loss: 0.0032 - mae: 0.0601 - val_loss: 0.0018 - val_mae: 0.0483 - learning_rate: 2.5000e-04\n",
            "Epoch 32/50\n",
            "\u001b[1m59/59\u001b[0m \u001b[32m━━━━━━━━━━━━━━━━━━━━\u001b[0m\u001b[37m\u001b[0m \u001b[1m5s\u001b[0m 82ms/step - loss: 0.0025 - mae: 0.0533 - val_loss: 0.0015 - val_mae: 0.0435 - learning_rate: 2.5000e-04\n",
            "Epoch 33/50\n",
            "\u001b[1m59/59\u001b[0m \u001b[32m━━━━━━━━━━━━━━━━━━━━\u001b[0m\u001b[37m\u001b[0m \u001b[1m5s\u001b[0m 91ms/step - loss: 0.0026 - mae: 0.0534 - val_loss: 0.0012 - val_mae: 0.0392 - learning_rate: 2.5000e-04\n",
            "Epoch 34/50\n",
            "\u001b[1m59/59\u001b[0m \u001b[32m━━━━━━━━━━━━━━━━━━━━\u001b[0m\u001b[37m\u001b[0m \u001b[1m6s\u001b[0m 106ms/step - loss: 0.0027 - mae: 0.0552 - val_loss: 0.0012 - val_mae: 0.0393 - learning_rate: 2.5000e-04\n",
            "Epoch 35/50\n",
            "\u001b[1m59/59\u001b[0m \u001b[32m━━━━━━━━━━━━━━━━━━━━\u001b[0m\u001b[37m\u001b[0m \u001b[1m10s\u001b[0m 106ms/step - loss: 0.0029 - mae: 0.0566 - val_loss: 0.0014 - val_mae: 0.0418 - learning_rate: 2.5000e-04\n",
            "Epoch 36/50\n",
            "\u001b[1m59/59\u001b[0m \u001b[32m━━━━━━━━━━━━━━━━━━━━\u001b[0m\u001b[37m\u001b[0m \u001b[1m9s\u001b[0m 83ms/step - loss: 0.0025 - mae: 0.0529 - val_loss: 0.0012 - val_mae: 0.0391 - learning_rate: 1.2500e-04\n",
            "Epoch 37/50\n",
            "\u001b[1m59/59\u001b[0m \u001b[32m━━━━━━━━━━━━━━━━━━━━\u001b[0m\u001b[37m\u001b[0m \u001b[1m7s\u001b[0m 113ms/step - loss: 0.0024 - mae: 0.0510 - val_loss: 0.0012 - val_mae: 0.0397 - learning_rate: 1.2500e-04\n",
            "Epoch 38/50\n",
            "\u001b[1m59/59\u001b[0m \u001b[32m━━━━━━━━━━━━━━━━━━━━\u001b[0m\u001b[37m\u001b[0m \u001b[1m5s\u001b[0m 81ms/step - loss: 0.0029 - mae: 0.0565 - val_loss: 0.0012 - val_mae: 0.0396 - learning_rate: 1.2500e-04\n",
            "Epoch 39/50\n",
            "\u001b[1m59/59\u001b[0m \u001b[32m━━━━━━━━━━━━━━━━━━━━\u001b[0m\u001b[37m\u001b[0m \u001b[1m5s\u001b[0m 91ms/step - loss: 0.0028 - mae: 0.0557 - val_loss: 0.0012 - val_mae: 0.0398 - learning_rate: 1.2500e-04\n",
            "Epoch 40/50\n",
            "\u001b[1m59/59\u001b[0m \u001b[32m━━━━━━━━━━━━━━━━━━━━\u001b[0m\u001b[37m\u001b[0m \u001b[1m6s\u001b[0m 104ms/step - loss: 0.0021 - mae: 0.0481 - val_loss: 0.0013 - val_mae: 0.0403 - learning_rate: 1.2500e-04\n"
          ]
        }
      ]
    },
    {
      "cell_type": "code",
      "source": [
        "plt.figure(figsize=(10, 6))\n",
        "plt.plot(history_lstm_trf.history['loss'], label='Training Loss')\n",
        "plt.plot(history_lstm_trf.history['val_loss'], label='Validation Loss')\n",
        "plt.title('Model Loss LSTM  and TRF')\n",
        "plt.xlabel('Epoch')\n",
        "plt.ylabel('Loss')\n",
        "plt.legend()\n",
        "plt.grid(True)\n",
        "plt.show()"
      ],
      "metadata": {
        "id": "M5gUvxbbVwoK",
        "colab": {
          "base_uri": "https://localhost:8080/",
          "height": 564
        },
        "outputId": "d21a9cdf-7fb6-4080-880a-1bfa7798e461",
        "collapsed": true
      },
      "execution_count": null,
      "outputs": [
        {
          "output_type": "display_data",
          "data": {
            "text/plain": [
              "<Figure size 1000x600 with 1 Axes>"
            ],
            "image/png": "[encoded data removed]"
          },
          "metadata": {}
        }
      ]
    },
    {
      "cell_type": "code",
      "source": [
        "#Predicting the price for a month in the horizon\n",
        "\n",
        "horizon = 7\n",
        "\n",
        "last_date = final_data.index[-1]\n",
        "future_dates = pd.date_range(start=last_date + pd.Timedelta(days=1), periods=horizon, freq='B')\n",
        "last_sequence = X_test[-1]"
      ],
      "metadata": {
        "id": "_uja8la7Gz8G"
      },
      "execution_count": null,
      "outputs": []
    },
    {
      "cell_type": "code",
      "source": [
        "#Prediction using lstm and transformer\n",
        "future_pred_lstm_trf = forecast_future(model_lstm_trf, last_sequence, scaler, horizon)"
      ],
      "metadata": {
        "id": "gnndE5utKC0i"
      },
      "execution_count": null,
      "outputs": []
    },
    {
      "cell_type": "code",
      "source": [
        "plt.figure(figsize=(25, 6))\n",
        "\n",
        "plt.plot(final_data.index[-15:], final_data['Close_GC=F'].values[-15:], label='Historical Prices', color='green')\n",
        "\n",
        "plt.plot(future_dates, future_pred_lstm_trf, label='Forecasted Prices', linestyle='--', color= 'red')\n",
        "plt.title('Gold Price Forecast LSTM  and TRF')\n",
        "plt.xlabel('Date')\n",
        "plt.ylabel('Price')\n",
        "plt.legend()\n",
        "plt.grid(True)\n",
        "plt.tight_layout()\n",
        "plt.show()"
      ],
      "metadata": {
        "id": "pOCaKL0zJN5I",
        "colab": {
          "base_uri": "https://localhost:8080/",
          "height": 364
        },
        "outputId": "bcfd19dc-6b35-416d-95f3-5cde71144ac4"
      },
      "execution_count": null,
      "outputs": [
        {
          "output_type": "display_data",
          "data": {
            "text/plain": [
              "<Figure size 2500x600 with 1 Axes>"
            ],
            "image/png": "[encoded data removed]"
          },
          "metadata": {}
        }
      ]
    },
    {
      "cell_type": "code",
      "source": [
        "print(future_dates)"
      ],
      "metadata": {
        "colab": {
          "base_uri": "https://localhost:8080/"
        },
        "id": "SlQdxVvqP5JD",
        "outputId": "90e21239-aabb-436b-f35e-f8ac6aa4d832"
      },
      "execution_count": null,
      "outputs": [
        {
          "output_type": "stream",
          "name": "stdout",
          "text": [
            "DatetimeIndex(['2024-12-12', '2024-12-13', '2024-12-16', '2024-12-17',\n",
            "               '2024-12-18', '2024-12-19', '2024-12-20'],\n",
            "              dtype='datetime64[ns]', freq='B')\n"
          ]
        }
      ]
    },
    {
      "cell_type": "code",
      "source": [
        "\n",
        "real_future_data = yf.download(tickers, start= '2024-12-12', end='2024-12-20', interval='1d')\n"
      ],
      "metadata": {
        "colab": {
          "base_uri": "https://localhost:8080/"
        },
        "id": "Hox8nAmYP-FC",
        "outputId": "95e00fa3-ad0d-401d-bfa6-1fe5b35d10a7"
      },
      "execution_count": null,
      "outputs": [
        {
          "output_type": "stream",
          "name": "stderr",
          "text": [
            "\r[*********************100%***********************]  1 of 1 completed\n"
          ]
        }
      ]
    },
    {
      "cell_type": "code",
      "source": [
        "creating_features(real_future_data).head()"
      ],
      "metadata": {
        "colab": {
          "base_uri": "https://localhost:8080/",
          "height": 237
        },
        "id": "bHhVXAnuQOIP",
        "outputId": "e5e161e0-f3e2-4751-901f-e60e8b110874"
      },
      "execution_count": null,
      "outputs": [
        {
          "output_type": "execute_result",
          "data": {
            "text/plain": [
              "             Close_GC=F\n",
              "Date                   \n",
              "2024-12-12  2687.500000\n",
              "2024-12-13  2656.000000\n",
              "2024-12-16  2651.399902\n",
              "2024-12-17  2644.399902\n",
              "2024-12-18  2636.500000"
            ],
            "text/html": [
              "\n",
              "  <div id=\"df-300458c4-e048-4ec2-bce5-a5bccb8a2aa0\" class=\"colab-df-container\">\n",
              "    <div>\n",
              "<style scoped>\n",
              "    .dataframe tbody tr th:only-of-type {\n",
              "        vertical-align: middle;\n",
              "    }\n",
              "\n",
              "    .dataframe tbody tr th {\n",
              "        vertical-align: top;\n",
              "    }\n",
              "\n",
              "    .dataframe thead th {\n",
              "        text-align: right;\n",
              "    }\n",
              "</style>\n",
              "<table border=\"1\" class=\"dataframe\">\n",
              "  <thead>\n",
              "    <tr style=\"text-align: right;\">\n",
              "      <th></th>\n",
              "      <th>Close_GC=F</th>\n",
              "    </tr>\n",
              "    <tr>\n",
              "      <th>Date</th>\n",
              "      <th></th>\n",
              "    </tr>\n",
              "  </thead>\n",
              "  <tbody>\n",
              "    <tr>\n",
              "      <th>2024-12-12</th>\n",
              "      <td>2687.500000</td>\n",
              "    </tr>\n",
              "    <tr>\n",
              "      <th>2024-12-13</th>\n",
              "      <td>2656.000000</td>\n",
              "    </tr>\n",
              "    <tr>\n",
              "      <th>2024-12-16</th>\n",
              "      <td>2651.399902</td>\n",
              "    </tr>\n",
              "    <tr>\n",
              "      <th>2024-12-17</th>\n",
              "      <td>2644.399902</td>\n",
              "    </tr>\n",
              "    <tr>\n",
              "      <th>2024-12-18</th>\n",
              "      <td>2636.500000</td>\n",
              "    </tr>\n",
              "  </tbody>\n",
              "</table>\n",
              "</div>\n",
              "    <div class=\"colab-df-buttons\">\n",
              "\n",
              "  <div class=\"colab-df-container\">\n",
              "    <button class=\"colab-df-convert\" onclick=\"convertToInteractive('df-300458c4-e048-4ec2-bce5-a5bccb8a2aa0')\"\n",
              "            title=\"Convert this dataframe to an interactive table.\"\n",
              "            style=\"display:none;\">\n",
              "\n",
              "  <svg xmlns=\"http://www.w3.org/2000/svg\" height=\"24px\" viewBox=\"0 -960 960 960\">\n",
              "    <path d=\"M120-120v-720h720v720H120Zm60-500h600v-160H180v160Zm220 220h160v-160H400v160Zm0 220h160v-160H400v160ZM180-400h160v-160H180v160Zm440 0h160v-160H620v160ZM180-180h160v-160H180v160Zm440 0h160v-160H620v160Z\"/>\n",
              "  </svg>\n",
              "    </button>\n",
              "\n",
              "  <style>\n",
              "    .colab-df-container {\n",
              "      display:flex;\n",
              "      gap: 12px;\n",
              "    }\n",
              "\n",
              "    .colab-df-convert {\n",
              "      background-color: #E8F0FE;\n",
              "      border: none;\n",
              "      border-radius: 50%;\n",
              "      cursor: pointer;\n",
              "      display: none;\n",
              "      fill: #1967D2;\n",
              "      height: 32px;\n",
              "      padding: 0 0 0 0;\n",
              "      width: 32px;\n",
              "    }\n",
              "\n",
              "    .colab-df-convert:hover {\n",
              "      background-color: #E2EBFA;\n",
              "      box-shadow: 0px 1px 2px rgba(60, 64, 67, 0.3), 0px 1px 3px 1px rgba(60, 64, 67, 0.15);\n",
              "      fill: #174EA6;\n",
              "    }\n",
              "\n",
              "    .colab-df-buttons div {\n",
              "      margin-bottom: 4px;\n",
              "    }\n",
              "\n",
              "    [theme=dark] .colab-df-convert {\n",
              "      background-color: #3B4455;\n",
              "      fill: #D2E3FC;\n",
              "    }\n",
              "\n",
              "    [theme=dark] .colab-df-convert:hover {\n",
              "      background-color: #434B5C;\n",
              "      box-shadow: 0px 1px 3px 1px rgba(0, 0, 0, 0.15);\n",
              "      filter: drop-shadow(0px 1px 2px rgba(0, 0, 0, 0.3));\n",
              "      fill: #FFFFFF;\n",
              "    }\n",
              "  </style>\n",
              "\n",
              "    <script>\n",
              "      const buttonEl =\n",
              "        document.querySelector('#df-300458c4-e048-4ec2-bce5-a5bccb8a2aa0 button.colab-df-convert');\n",
              "      buttonEl.style.display =\n",
              "        google.colab.kernel.accessAllowed ? 'block' : 'none';\n",
              "\n",
              "      async function convertToInteractive(key) {\n",
              "        const element = document.querySelector('#df-300458c4-e048-4ec2-bce5-a5bccb8a2aa0');\n",
              "        const dataTable =\n",
              "          await google.colab.kernel.invokeFunction('convertToInteractive',\n",
              "                                                    [key], {});\n",
              "        if (!dataTable) return;\n",
              "\n",
              "        const docLinkHtml = 'Like what you see? Visit the ' +\n",
              "          '<a target=\"_blank\" href=https://colab.research.google.com/notebooks/data_table.ipynb>data table notebook</a>'\n",
              "          + ' to learn more about interactive tables.';\n",
              "        element.innerHTML = '';\n",
              "        dataTable['output_type'] = 'display_data';\n",
              "        await google.colab.output.renderOutput(dataTable, element);\n",
              "        const docLink = document.createElement('div');\n",
              "        docLink.innerHTML = docLinkHtml;\n",
              "        element.appendChild(docLink);\n",
              "      }\n",
              "    </script>\n",
              "  </div>\n",
              "\n",
              "\n",
              "<div id=\"df-6e663076-81b8-4bdb-bd84-09ff65a9b79b\">\n",
              "  <button class=\"colab-df-quickchart\" onclick=\"quickchart('df-6e663076-81b8-4bdb-bd84-09ff65a9b79b')\"\n",
              "            title=\"Suggest charts\"\n",
              "            style=\"display:none;\">\n",
              "\n",
              "<svg xmlns=\"http://www.w3.org/2000/svg\" height=\"24px\"viewBox=\"0 0 24 24\"\n",
              "     width=\"24px\">\n",
              "    <g>\n",
              "        <path d=\"M19 3H5c-1.1 0-2 .9-2 2v14c0 1.1.9 2 2 2h14c1.1 0 2-.9 2-2V5c0-1.1-.9-2-2-2zM9 17H7v-7h2v7zm4 0h-2V7h2v10zm4 0h-2v-4h2v4z\"/>\n",
              "    </g>\n",
              "</svg>\n",
              "  </button>\n",
              "\n",
              "<style>\n",
              "  .colab-df-quickchart {\n",
              "      --bg-color: #E8F0FE;\n",
              "      --fill-color: #1967D2;\n",
              "      --hover-bg-color: #E2EBFA;\n",
              "      --hover-fill-color: #174EA6;\n",
              "      --disabled-fill-color: #AAA;\n",
              "      --disabled-bg-color: #DDD;\n",
              "  }\n",
              "\n",
              "  [theme=dark] .colab-df-quickchart {\n",
              "      --bg-color: #3B4455;\n",
              "      --fill-color: #D2E3FC;\n",
              "      --hover-bg-color: #434B5C;\n",
              "      --hover-fill-color: #FFFFFF;\n",
              "      --disabled-bg-color: #3B4455;\n",
              "      --disabled-fill-color: #666;\n",
              "  }\n",
              "\n",
              "  .colab-df-quickchart {\n",
              "    background-color: var(--bg-color);\n",
              "    border: none;\n",
              "    border-radius: 50%;\n",
              "    cursor: pointer;\n",
              "    display: none;\n",
              "    fill: var(--fill-color);\n",
              "    height: 32px;\n",
              "    padding: 0;\n",
              "    width: 32px;\n",
              "  }\n",
              "\n",
              "  .colab-df-quickchart:hover {\n",
              "    background-color: var(--hover-bg-color);\n",
              "    box-shadow: 0 1px 2px rgba(60, 64, 67, 0.3), 0 1px 3px 1px rgba(60, 64, 67, 0.15);\n",
              "    fill: var(--button-hover-fill-color);\n",
              "  }\n",
              "\n",
              "  .colab-df-quickchart-complete:disabled,\n",
              "  .colab-df-quickchart-complete:disabled:hover {\n",
              "    background-color: var(--disabled-bg-color);\n",
              "    fill: var(--disabled-fill-color);\n",
              "    box-shadow: none;\n",
              "  }\n",
              "\n",
              "  .colab-df-spinner {\n",
              "    border: 2px solid var(--fill-color);\n",
              "    border-color: transparent;\n",
              "    border-bottom-color: var(--fill-color);\n",
              "    animation:\n",
              "      spin 1s steps(1) infinite;\n",
              "  }\n",
              "\n",
              "  @keyframes spin {\n",
              "    0% {\n",
              "      border-color: transparent;\n",
              "      border-bottom-color: var(--fill-color);\n",
              "      border-left-color: var(--fill-color);\n",
              "    }\n",
              "    20% {\n",
              "      border-color: transparent;\n",
              "      border-left-color: var(--fill-color);\n",
              "      border-top-color: var(--fill-color);\n",
              "    }\n",
              "    30% {\n",
              "      border-color: transparent;\n",
              "      border-left-color: var(--fill-color);\n",
              "      border-top-color: var(--fill-color);\n",
              "      border-right-color: var(--fill-color);\n",
              "    }\n",
              "    40% {\n",
              "      border-color: transparent;\n",
              "      border-right-color: var(--fill-color);\n",
              "      border-top-color: var(--fill-color);\n",
              "    }\n",
              "    60% {\n",
              "      border-color: transparent;\n",
              "      border-right-color: var(--fill-color);\n",
              "    }\n",
              "    80% {\n",
              "      border-color: transparent;\n",
              "      border-right-color: var(--fill-color);\n",
              "      border-bottom-color: var(--fill-color);\n",
              "    }\n",
              "    90% {\n",
              "      border-color: transparent;\n",
              "      border-bottom-color: var(--fill-color);\n",
              "    }\n",
              "  }\n",
              "</style>\n",
              "\n",
              "  <script>\n",
              "    async function quickchart(key) {\n",
              "      const quickchartButtonEl =\n",
              "        document.querySelector('#' + key + ' button');\n",
              "      quickchartButtonEl.disabled = true;  // To prevent multiple clicks.\n",
              "      quickchartButtonEl.classList.add('colab-df-spinner');\n",
              "      try {\n",
              "        const charts = await google.colab.kernel.invokeFunction(\n",
              "            'suggestCharts', [key], {});\n",
              "      } catch (error) {\n",
              "        console.error('Error during call to suggestCharts:', error);\n",
              "      }\n",
              "      quickchartButtonEl.classList.remove('colab-df-spinner');\n",
              "      quickchartButtonEl.classList.add('colab-df-quickchart-complete');\n",
              "    }\n",
              "    (() => {\n",
              "      let quickchartButtonEl =\n",
              "        document.querySelector('#df-6e663076-81b8-4bdb-bd84-09ff65a9b79b button');\n",
              "      quickchartButtonEl.style.display =\n",
              "        google.colab.kernel.accessAllowed ? 'block' : 'none';\n",
              "    })();\n",
              "  </script>\n",
              "</div>\n",
              "\n",
              "    </div>\n",
              "  </div>\n"
            ],
            "application/vnd.google.colaboratory.intrinsic+json": {
              "type": "dataframe",
              "summary": "{\n  \"name\": \"creating_features(real_future_data)\",\n  \"rows\": 5,\n  \"fields\": [\n    {\n      \"column\": \"Date\",\n      \"properties\": {\n        \"dtype\": \"date\",\n        \"min\": \"2024-12-12 00:00:00\",\n        \"max\": \"2024-12-18 00:00:00\",\n        \"num_unique_values\": 5,\n        \"samples\": [\n          \"2024-12-13 00:00:00\",\n          \"2024-12-18 00:00:00\",\n          \"2024-12-16 00:00:00\"\n        ],\n        \"semantic_type\": \"\",\n        \"description\": \"\"\n      }\n    },\n    {\n      \"column\": \"Close_GC=F\",\n      \"properties\": {\n        \"dtype\": \"number\",\n        \"std\": 19.52367047937544,\n        \"min\": 2636.5,\n        \"max\": 2687.5,\n        \"num_unique_values\": 5,\n        \"samples\": [\n          2656.0,\n          2636.5,\n          2651.39990234375\n        ],\n        \"semantic_type\": \"\",\n        \"description\": \"\"\n      }\n    }\n  ]\n}"
            }
          },
          "metadata": {},
          "execution_count": 25
        }
      ]
    },
    {
      "cell_type": "code",
      "source": [
        "future_pred_lstm_trf"
      ],
      "metadata": {
        "colab": {
          "base_uri": "https://localhost:8080/"
        },
        "id": "KRdW3XjU_Vxx",
        "outputId": "5de5304d-62c7-4b18-b78c-39931d639f73"
      },
      "execution_count": null,
      "outputs": [
        {
          "output_type": "execute_result",
          "data": {
            "text/plain": [
              "array([[2508.3623],\n",
              "       [2503.1638],\n",
              "       [2497.1191],\n",
              "       [2490.5503],\n",
              "       [2483.9844],\n",
              "       [2477.831 ],\n",
              "       [2472.1775]], dtype=float32)"
            ]
          },
          "metadata": {},
          "execution_count": 26
        }
      ]
    }
  ],
  "metadata": {
    "kernelspec": {
      "display_name": "crysto_env",
      "language": "python",
      "name": "crysto_env"
    },
    "language_info": {
      "codemirror_mode": {
        "name": "ipython",
        "version": 3
      },
      "file_extension": ".py",
      "mimetype": "text/x-python",
      "name": "python",
      "nbconvert_exporter": "python",
      "pygments_lexer": "ipython3",
      "version": "3.13.0"
    },
    "colab": {
      "provenance": []
    }
  },
  "nbformat": 4,
  "nbformat_minor": 0
}