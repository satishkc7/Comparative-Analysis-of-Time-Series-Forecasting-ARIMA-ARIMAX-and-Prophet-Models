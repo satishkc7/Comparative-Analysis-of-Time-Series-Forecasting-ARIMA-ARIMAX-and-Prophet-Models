{
  "cells": [
    {
      "cell_type": "code",
      "execution_count": null,
      "metadata": {
        "id": "GOESST47IVjm"
      },
      "outputs": [],
      "source": [
        "import yfinance as yf\n",
        "import pandas as pd\n",
        "import numpy as np\n",
        "import warnings\n",
        "import datetime\n",
        "import matplotlib.pyplot as plt\n",
        "import seaborn as sns\n",
        "import tensorflow as tf\n",
        "\n",
        "warnings.filterwarnings('ignore')\n",
        "\n",
        "from datetime import date\n",
        "\n",
        "color_pal = sns.color_palette()\n",
        "plt.style.use('fivethirtyeight')\n",
        "\n",
        "from sklearn.preprocessing import MinMaxScaler\n",
        "from tensorflow.keras.models import Sequential\n",
        "from tensorflow.keras.layers import Bidirectional\n",
        "from tensorflow.keras.layers import BatchNormalization\n",
        "\n",
        "from tensorflow.keras.layers import LSTM, Dense, Dropout, Layer\n",
        "from tensorflow.keras.optimizers import Adam\n",
        "from keras.callbacks import ReduceLROnPlateau, EarlyStopping"
      ]
    },
    {
      "cell_type": "markdown",
      "metadata": {
        "id": "TMPvaRYHIVjn"
      },
      "source": [
        "Preprocessing Part"
      ]
    },
    {
      "cell_type": "code",
      "execution_count": null,
      "metadata": {
        "id": "UBG6KsF3IVjo"
      },
      "outputs": [],
      "source": [
        "start_date ='2014-01-01'\n",
        "end_date = '2024-12-12'\n",
        "#end_date = datetime.datetime.now().date()"
      ]
    },
    {
      "cell_type": "code",
      "execution_count": null,
      "metadata": {
        "id": "0V96RgN-IVjo"
      },
      "outputs": [],
      "source": [
        "def creating_features(data):\n",
        "  data = data.copy()\n",
        "  data.columns = ['_'.join(col).strip() if isinstance(col, tuple) else col for col in data.columns]\n",
        "  data = data.filter(regex='^Close')\n",
        "  #data['Date'] = data.index.date\n",
        "  #data['Date'] = pd.to_datetime(data['Date'])\n",
        "  return data"
      ]
    },
    {
      "cell_type": "code",
      "execution_count": null,
      "metadata": {
        "colab": {
          "base_uri": "https://localhost:8080/"
        },
        "id": "ogOkyi4xIVjo",
        "outputId": "17cf4bda-63b2-4792-9a46-0967177b714a"
      },
      "outputs": [
        {
          "output_type": "stream",
          "name": "stderr",
          "text": [
            "\r[*********************100%***********************]  1 of 1 completed\n"
          ]
        }
      ],
      "source": [
        "#Features_agglomorated\n",
        "tickers = ['GC=F']\n",
        "\n",
        "# Download historical data\n",
        "features = yf.download(tickers, start= start_date, end=end_date, interval='1d')\n",
        "#features = yf.download(tickers, end=end_date, interval='1d')"
      ]
    },
    {
      "cell_type": "code",
      "execution_count": null,
      "metadata": {
        "id": "z3btL_XAIVjp"
      },
      "outputs": [],
      "source": [
        "final_data= creating_features(features).dropna()"
      ]
    },
    {
      "cell_type": "code",
      "source": [
        "final_data.shape"
      ],
      "metadata": {
        "colab": {
          "base_uri": "https://localhost:8080/"
        },
        "id": "iP_FFBC8HH_-",
        "outputId": "3b6cfcfc-c450-45e1-ab9c-066c07e799c9"
      },
      "execution_count": null,
      "outputs": [
        {
          "output_type": "execute_result",
          "data": {
            "text/plain": [
              "(2752, 1)"
            ]
          },
          "metadata": {},
          "execution_count": 30
        }
      ]
    },
    {
      "cell_type": "code",
      "source": [
        "final_data.head(7)"
      ],
      "metadata": {
        "colab": {
          "base_uri": "https://localhost:8080/",
          "height": 300
        },
        "id": "AtlLCxfAKfsQ",
        "outputId": "0472bd1d-8412-4de3-9d57-cdb9a080ef74"
      },
      "execution_count": null,
      "outputs": [
        {
          "output_type": "execute_result",
          "data": {
            "text/plain": [
              "             Close_GC=F\n",
              "Date                   \n",
              "2014-01-02  1225.000000\n",
              "2014-01-03  1238.400024\n",
              "2014-01-06  1237.800049\n",
              "2014-01-07  1229.400024\n",
              "2014-01-08  1225.300049\n",
              "2014-01-09  1229.300049\n",
              "2014-01-10  1246.699951"
            ],
            "text/html": [
              "\n",
              "  <div id=\"df-ee39b766-110a-4f36-987b-c6fe6f3defab\" class=\"colab-df-container\">\n",
              "    <div>\n",
              "<style scoped>\n",
              "    .dataframe tbody tr th:only-of-type {\n",
              "        vertical-align: middle;\n",
              "    }\n",
              "\n",
              "    .dataframe tbody tr th {\n",
              "        vertical-align: top;\n",
              "    }\n",
              "\n",
              "    .dataframe thead th {\n",
              "        text-align: right;\n",
              "    }\n",
              "</style>\n",
              "<table border=\"1\" class=\"dataframe\">\n",
              "  <thead>\n",
              "    <tr style=\"text-align: right;\">\n",
              "      <th></th>\n",
              "      <th>Close_GC=F</th>\n",
              "    </tr>\n",
              "    <tr>\n",
              "      <th>Date</th>\n",
              "      <th></th>\n",
              "    </tr>\n",
              "  </thead>\n",
              "  <tbody>\n",
              "    <tr>\n",
              "      <th>2014-01-02</th>\n",
              "      <td>1225.000000</td>\n",
              "    </tr>\n",
              "    <tr>\n",
              "      <th>2014-01-03</th>\n",
              "      <td>1238.400024</td>\n",
              "    </tr>\n",
              "    <tr>\n",
              "      <th>2014-01-06</th>\n",
              "      <td>1237.800049</td>\n",
              "    </tr>\n",
              "    <tr>\n",
              "      <th>2014-01-07</th>\n",
              "      <td>1229.400024</td>\n",
              "    </tr>\n",
              "    <tr>\n",
              "      <th>2014-01-08</th>\n",
              "      <td>1225.300049</td>\n",
              "    </tr>\n",
              "    <tr>\n",
              "      <th>2014-01-09</th>\n",
              "      <td>1229.300049</td>\n",
              "    </tr>\n",
              "    <tr>\n",
              "      <th>2014-01-10</th>\n",
              "      <td>1246.699951</td>\n",
              "    </tr>\n",
              "  </tbody>\n",
              "</table>\n",
              "</div>\n",
              "    <div class=\"colab-df-buttons\">\n",
              "\n",
              "  <div class=\"colab-df-container\">\n",
              "    <button class=\"colab-df-convert\" onclick=\"convertToInteractive('df-ee39b766-110a-4f36-987b-c6fe6f3defab')\"\n",
              "            title=\"Convert this dataframe to an interactive table.\"\n",
              "            style=\"display:none;\">\n",
              "\n",
              "  <svg xmlns=\"http://www.w3.org/2000/svg\" height=\"24px\" viewBox=\"0 -960 960 960\">\n",
              "    <path d=\"M120-120v-720h720v720H120Zm60-500h600v-160H180v160Zm220 220h160v-160H400v160Zm0 220h160v-160H400v160ZM180-400h160v-160H180v160Zm440 0h160v-160H620v160ZM180-180h160v-160H180v160Zm440 0h160v-160H620v160Z\"/>\n",
              "  </svg>\n",
              "    </button>\n",
              "\n",
              "  <style>\n",
              "    .colab-df-container {\n",
              "      display:flex;\n",
              "      gap: 12px;\n",
              "    }\n",
              "\n",
              "    .colab-df-convert {\n",
              "      background-color: #E8F0FE;\n",
              "      border: none;\n",
              "      border-radius: 50%;\n",
              "      cursor: pointer;\n",
              "      display: none;\n",
              "      fill: #1967D2;\n",
              "      height: 32px;\n",
              "      padding: 0 0 0 0;\n",
              "      width: 32px;\n",
              "    }\n",
              "\n",
              "    .colab-df-convert:hover {\n",
              "      background-color: #E2EBFA;\n",
              "      box-shadow: 0px 1px 2px rgba(60, 64, 67, 0.3), 0px 1px 3px 1px rgba(60, 64, 67, 0.15);\n",
              "      fill: #174EA6;\n",
              "    }\n",
              "\n",
              "    .colab-df-buttons div {\n",
              "      margin-bottom: 4px;\n",
              "    }\n",
              "\n",
              "    [theme=dark] .colab-df-convert {\n",
              "      background-color: #3B4455;\n",
              "      fill: #D2E3FC;\n",
              "    }\n",
              "\n",
              "    [theme=dark] .colab-df-convert:hover {\n",
              "      background-color: #434B5C;\n",
              "      box-shadow: 0px 1px 3px 1px rgba(0, 0, 0, 0.15);\n",
              "      filter: drop-shadow(0px 1px 2px rgba(0, 0, 0, 0.3));\n",
              "      fill: #FFFFFF;\n",
              "    }\n",
              "  </style>\n",
              "\n",
              "    <script>\n",
              "      const buttonEl =\n",
              "        document.querySelector('#df-ee39b766-110a-4f36-987b-c6fe6f3defab button.colab-df-convert');\n",
              "      buttonEl.style.display =\n",
              "        google.colab.kernel.accessAllowed ? 'block' : 'none';\n",
              "\n",
              "      async function convertToInteractive(key) {\n",
              "        const element = document.querySelector('#df-ee39b766-110a-4f36-987b-c6fe6f3defab');\n",
              "        const dataTable =\n",
              "          await google.colab.kernel.invokeFunction('convertToInteractive',\n",
              "                                                    [key], {});\n",
              "        if (!dataTable) return;\n",
              "\n",
              "        const docLinkHtml = 'Like what you see? Visit the ' +\n",
              "          '<a target=\"_blank\" href=https://colab.research.google.com/notebooks/data_table.ipynb>data table notebook</a>'\n",
              "          + ' to learn more about interactive tables.';\n",
              "        element.innerHTML = '';\n",
              "        dataTable['output_type'] = 'display_data';\n",
              "        await google.colab.output.renderOutput(dataTable, element);\n",
              "        const docLink = document.createElement('div');\n",
              "        docLink.innerHTML = docLinkHtml;\n",
              "        element.appendChild(docLink);\n",
              "      }\n",
              "    </script>\n",
              "  </div>\n",
              "\n",
              "\n",
              "<div id=\"df-95c79840-1210-4ddf-97a1-13a33555afd0\">\n",
              "  <button class=\"colab-df-quickchart\" onclick=\"quickchart('df-95c79840-1210-4ddf-97a1-13a33555afd0')\"\n",
              "            title=\"Suggest charts\"\n",
              "            style=\"display:none;\">\n",
              "\n",
              "<svg xmlns=\"http://www.w3.org/2000/svg\" height=\"24px\"viewBox=\"0 0 24 24\"\n",
              "     width=\"24px\">\n",
              "    <g>\n",
              "        <path d=\"M19 3H5c-1.1 0-2 .9-2 2v14c0 1.1.9 2 2 2h14c1.1 0 2-.9 2-2V5c0-1.1-.9-2-2-2zM9 17H7v-7h2v7zm4 0h-2V7h2v10zm4 0h-2v-4h2v4z\"/>\n",
              "    </g>\n",
              "</svg>\n",
              "  </button>\n",
              "\n",
              "<style>\n",
              "  .colab-df-quickchart {\n",
              "      --bg-color: #E8F0FE;\n",
              "      --fill-color: #1967D2;\n",
              "      --hover-bg-color: #E2EBFA;\n",
              "      --hover-fill-color: #174EA6;\n",
              "      --disabled-fill-color: #AAA;\n",
              "      --disabled-bg-color: #DDD;\n",
              "  }\n",
              "\n",
              "  [theme=dark] .colab-df-quickchart {\n",
              "      --bg-color: #3B4455;\n",
              "      --fill-color: #D2E3FC;\n",
              "      --hover-bg-color: #434B5C;\n",
              "      --hover-fill-color: #FFFFFF;\n",
              "      --disabled-bg-color: #3B4455;\n",
              "      --disabled-fill-color: #666;\n",
              "  }\n",
              "\n",
              "  .colab-df-quickchart {\n",
              "    background-color: var(--bg-color);\n",
              "    border: none;\n",
              "    border-radius: 50%;\n",
              "    cursor: pointer;\n",
              "    display: none;\n",
              "    fill: var(--fill-color);\n",
              "    height: 32px;\n",
              "    padding: 0;\n",
              "    width: 32px;\n",
              "  }\n",
              "\n",
              "  .colab-df-quickchart:hover {\n",
              "    background-color: var(--hover-bg-color);\n",
              "    box-shadow: 0 1px 2px rgba(60, 64, 67, 0.3), 0 1px 3px 1px rgba(60, 64, 67, 0.15);\n",
              "    fill: var(--button-hover-fill-color);\n",
              "  }\n",
              "\n",
              "  .colab-df-quickchart-complete:disabled,\n",
              "  .colab-df-quickchart-complete:disabled:hover {\n",
              "    background-color: var(--disabled-bg-color);\n",
              "    fill: var(--disabled-fill-color);\n",
              "    box-shadow: none;\n",
              "  }\n",
              "\n",
              "  .colab-df-spinner {\n",
              "    border: 2px solid var(--fill-color);\n",
              "    border-color: transparent;\n",
              "    border-bottom-color: var(--fill-color);\n",
              "    animation:\n",
              "      spin 1s steps(1) infinite;\n",
              "  }\n",
              "\n",
              "  @keyframes spin {\n",
              "    0% {\n",
              "      border-color: transparent;\n",
              "      border-bottom-color: var(--fill-color);\n",
              "      border-left-color: var(--fill-color);\n",
              "    }\n",
              "    20% {\n",
              "      border-color: transparent;\n",
              "      border-left-color: var(--fill-color);\n",
              "      border-top-color: var(--fill-color);\n",
              "    }\n",
              "    30% {\n",
              "      border-color: transparent;\n",
              "      border-left-color: var(--fill-color);\n",
              "      border-top-color: var(--fill-color);\n",
              "      border-right-color: var(--fill-color);\n",
              "    }\n",
              "    40% {\n",
              "      border-color: transparent;\n",
              "      border-right-color: var(--fill-color);\n",
              "      border-top-color: var(--fill-color);\n",
              "    }\n",
              "    60% {\n",
              "      border-color: transparent;\n",
              "      border-right-color: var(--fill-color);\n",
              "    }\n",
              "    80% {\n",
              "      border-color: transparent;\n",
              "      border-right-color: var(--fill-color);\n",
              "      border-bottom-color: var(--fill-color);\n",
              "    }\n",
              "    90% {\n",
              "      border-color: transparent;\n",
              "      border-bottom-color: var(--fill-color);\n",
              "    }\n",
              "  }\n",
              "</style>\n",
              "\n",
              "  <script>\n",
              "    async function quickchart(key) {\n",
              "      const quickchartButtonEl =\n",
              "        document.querySelector('#' + key + ' button');\n",
              "      quickchartButtonEl.disabled = true;  // To prevent multiple clicks.\n",
              "      quickchartButtonEl.classList.add('colab-df-spinner');\n",
              "      try {\n",
              "        const charts = await google.colab.kernel.invokeFunction(\n",
              "            'suggestCharts', [key], {});\n",
              "      } catch (error) {\n",
              "        console.error('Error during call to suggestCharts:', error);\n",
              "      }\n",
              "      quickchartButtonEl.classList.remove('colab-df-spinner');\n",
              "      quickchartButtonEl.classList.add('colab-df-quickchart-complete');\n",
              "    }\n",
              "    (() => {\n",
              "      let quickchartButtonEl =\n",
              "        document.querySelector('#df-95c79840-1210-4ddf-97a1-13a33555afd0 button');\n",
              "      quickchartButtonEl.style.display =\n",
              "        google.colab.kernel.accessAllowed ? 'block' : 'none';\n",
              "    })();\n",
              "  </script>\n",
              "</div>\n",
              "\n",
              "    </div>\n",
              "  </div>\n"
            ],
            "application/vnd.google.colaboratory.intrinsic+json": {
              "type": "dataframe",
              "variable_name": "final_data",
              "summary": "{\n  \"name\": \"final_data\",\n  \"rows\": 2752,\n  \"fields\": [\n    {\n      \"column\": \"Date\",\n      \"properties\": {\n        \"dtype\": \"date\",\n        \"min\": \"2014-01-02 00:00:00\",\n        \"max\": \"2024-12-11 00:00:00\",\n        \"num_unique_values\": 2752,\n        \"samples\": [\n          \"2019-05-30 00:00:00\",\n          \"2015-12-07 00:00:00\",\n          \"2015-08-17 00:00:00\"\n        ],\n        \"semantic_type\": \"\",\n        \"description\": \"\"\n      }\n    },\n    {\n      \"column\": \"Close_GC=F\",\n      \"properties\": {\n        \"dtype\": \"number\",\n        \"std\": 381.42277242814487,\n        \"min\": 1050.800048828125,\n        \"max\": 2788.5,\n        \"num_unique_values\": 2263,\n        \"samples\": [\n          1816.4000244140625,\n          1709.9000244140625,\n          1143.800048828125\n        ],\n        \"semantic_type\": \"\",\n        \"description\": \"\"\n      }\n    }\n  ]\n}"
            }
          },
          "metadata": {},
          "execution_count": 31
        }
      ]
    },
    {
      "cell_type": "code",
      "source": [
        "seq_length = 63"
      ],
      "metadata": {
        "id": "WPfzrHu3YtPo"
      },
      "execution_count": null,
      "outputs": []
    },
    {
      "cell_type": "code",
      "source": [
        "def create_sequences(data, seq_len):\n",
        "    X, y = [], []\n",
        "    for i in range(len(data) - seq_len):\n",
        "        X.append(data[i:(i + seq_len)])\n",
        "        y.append(data[i + seq_len])\n",
        "    return np.array(X), np.array(y)"
      ],
      "metadata": {
        "id": "QK4uBps6KG7x"
      },
      "execution_count": null,
      "outputs": []
    },
    {
      "cell_type": "code",
      "source": [
        "def prepare_data(df, feature_column, seq_len=seq_length):\n",
        "    data = df[feature_column].values.reshape(-1, 1)\n",
        "\n",
        "    X, y = create_sequences(data, seq_len)\n",
        "\n",
        "    train_size = int(len(X) * 0.7)\n",
        "    val_size = int(len(X) * 0.2)\n",
        "\n",
        "    X_train = X[:train_size]\n",
        "    y_train = y[:train_size]\n",
        "\n",
        "    X_val = X[train_size:train_size+val_size]\n",
        "    y_val = y[train_size:train_size+val_size]\n",
        "\n",
        "    X_test = X[train_size+val_size:]\n",
        "    y_test = y[train_size+val_size:]\n",
        "\n",
        "    scaler = MinMaxScaler()\n",
        "\n",
        "    X_train_reshaped = X_train.reshape(-1, 1)\n",
        "    scaler = scaler.fit(X_train_reshaped)\n",
        "\n",
        "    X_train_scaled = scaler.transform(X_train_reshaped).reshape(X_train.shape)\n",
        "    X_val_scaled = scaler.transform(X_val.reshape(-1, 1)).reshape(X_val.shape)\n",
        "    X_test_scaled = scaler.transform(X_test.reshape(-1, 1)).reshape(X_test.shape)\n",
        "\n",
        "    y_train_scaled = scaler.transform(y_train)\n",
        "    y_val_scaled = scaler.transform(y_val)\n",
        "    y_test_scaled = scaler.transform(y_test)\n",
        "\n",
        "    return X_train_scaled, X_val_scaled, X_test_scaled, y_train_scaled, y_val_scaled, y_test_scaled, scaler"
      ],
      "metadata": {
        "id": "fgCqZNGwHx57"
      },
      "execution_count": null,
      "outputs": []
    },
    {
      "cell_type": "code",
      "source": [
        "def forecast_future(model, last_sequence, scaler, horizon):\n",
        "\n",
        "    future_predictions = []\n",
        "    current_sequence = last_sequence.copy()\n",
        "\n",
        "    for _ in range(horizon):\n",
        "\n",
        "        next_pred = model.predict(current_sequence.reshape(1, -1, 1), verbose=0)\n",
        "        future_predictions.append(next_pred[0, 0])\n",
        "\n",
        "        current_sequence = np.roll(current_sequence, -1)\n",
        "        current_sequence[-1] = next_pred\n",
        "\n",
        "    future_predictions = np.array(future_predictions).reshape(-1, 1)\n",
        "    future_predictions = scaler.inverse_transform(future_predictions)\n",
        "\n",
        "    return future_predictions"
      ],
      "metadata": {
        "id": "UapyvPkVJSix"
      },
      "execution_count": null,
      "outputs": []
    },
    {
      "cell_type": "code",
      "source": [
        "def lstm(seq_len):\n",
        "  model1 = Sequential([\n",
        "    Bidirectional(LSTM(100, activation='tanh', return_sequences=True, input_shape=(seq_len,1))),\n",
        "    BatchNormalization(),\n",
        "    Dropout(0.3),\n",
        "\n",
        "    Bidirectional(LSTM(100, activation='tanh')),\n",
        "    BatchNormalization(),\n",
        "    Dropout(0.3),\n",
        "\n",
        "    Dense(50, activation='relu'),\n",
        "    Dense(1)\n",
        "    ])\n",
        "  model1.compile(optimizer='adam',loss='huber', metrics=['mae'])\n",
        "  return model1\n"
      ],
      "metadata": {
        "id": "SqVaQyJzKIcX"
      },
      "execution_count": null,
      "outputs": []
    },
    {
      "cell_type": "markdown",
      "source": [],
      "metadata": {
        "id": "_5ozX8VcGnHM"
      }
    },
    {
      "cell_type": "code",
      "source": [
        "X_train, X_val, X_test, y_train, y_val, y_test, scaler = prepare_data(final_data, feature_column='Close_GC=F', seq_len=seq_length)"
      ],
      "metadata": {
        "id": "LI6D9kR3J6R4"
      },
      "execution_count": null,
      "outputs": []
    },
    {
      "cell_type": "code",
      "source": [
        "X_train.shape, X_val.shape, X_test.shape, y_train.shape, y_val.shape, y_test.shape"
      ],
      "metadata": {
        "colab": {
          "base_uri": "https://localhost:8080/"
        },
        "id": "otdAJVOpSPaV",
        "outputId": "58465b81-40ef-475e-c342-e9bebf84bd6c"
      },
      "execution_count": null,
      "outputs": [
        {
          "output_type": "execute_result",
          "data": {
            "text/plain": [
              "((1882, 63, 1), (537, 63, 1), (270, 63, 1), (1882, 1), (537, 1), (270, 1))"
            ]
          },
          "metadata": {},
          "execution_count": 38
        }
      ]
    },
    {
      "cell_type": "code",
      "source": [
        "early_stopping = EarlyStopping(patience=10, restore_best_weights=True)\n",
        "lr_reducer = ReduceLROnPlateau(factor=0.5, patience=5)\n"
      ],
      "metadata": {
        "id": "60sJtkmkSW3A"
      },
      "execution_count": null,
      "outputs": []
    },
    {
      "cell_type": "code",
      "source": [
        "model_lstm = lstm(seq_length)"
      ],
      "metadata": {
        "id": "IOkHVpgaSNeH"
      },
      "execution_count": null,
      "outputs": []
    },
    {
      "cell_type": "code",
      "source": [
        "history_lstm = model_lstm.fit(X_train, y_train,\n",
        "                  epochs= 50,\n",
        "                  batch_size=32,\n",
        "                  validation_data=(X_val, y_val),\n",
        "                  callbacks=[early_stopping, lr_reducer],\n",
        "                  verbose=1)"
      ],
      "metadata": {
        "id": "WGC9b5BxRGi1",
        "colab": {
          "base_uri": "https://localhost:8080/"
        },
        "outputId": "f17fb7f2-a9ac-4b1e-81a1-6813422a1f1f"
      },
      "execution_count": null,
      "outputs": [
        {
          "output_type": "stream",
          "name": "stdout",
          "text": [
            "Epoch 1/50\n",
            "\u001b[1m59/59\u001b[0m \u001b[32m━━━━━━━━━━━━━━━━━━━━\u001b[0m\u001b[37m\u001b[0m \u001b[1m29s\u001b[0m 316ms/step - loss: 0.3275 - mae: 0.6597 - val_loss: 0.2268 - val_mae: 0.6656 - learning_rate: 0.0010\n",
            "Epoch 2/50\n",
            "\u001b[1m59/59\u001b[0m \u001b[32m━━━━━━━━━━━━━━━━━━━━\u001b[0m\u001b[37m\u001b[0m \u001b[1m19s\u001b[0m 317ms/step - loss: 0.1359 - mae: 0.4030 - val_loss: 0.1046 - val_mae: 0.4482 - learning_rate: 0.0010\n",
            "Epoch 3/50\n",
            "\u001b[1m59/59\u001b[0m \u001b[32m━━━━━━━━━━━━━━━━━━━━\u001b[0m\u001b[37m\u001b[0m \u001b[1m22s\u001b[0m 343ms/step - loss: 0.0672 - mae: 0.2773 - val_loss: 0.3286 - val_mae: 0.8015 - learning_rate: 0.0010\n",
            "Epoch 4/50\n",
            "\u001b[1m59/59\u001b[0m \u001b[32m━━━━━━━━━━━━━━━━━━━━\u001b[0m\u001b[37m\u001b[0m \u001b[1m19s\u001b[0m 318ms/step - loss: 0.0513 - mae: 0.2420 - val_loss: 0.0334 - val_mae: 0.2382 - learning_rate: 0.0010\n",
            "Epoch 5/50\n",
            "\u001b[1m59/59\u001b[0m \u001b[32m━━━━━━━━━━━━━━━━━━━━\u001b[0m\u001b[37m\u001b[0m \u001b[1m21s\u001b[0m 330ms/step - loss: 0.0355 - mae: 0.1973 - val_loss: 0.0300 - val_mae: 0.2301 - learning_rate: 0.0010\n",
            "Epoch 6/50\n",
            "\u001b[1m59/59\u001b[0m \u001b[32m━━━━━━━━━━━━━━━━━━━━\u001b[0m\u001b[37m\u001b[0m \u001b[1m20s\u001b[0m 316ms/step - loss: 0.0268 - mae: 0.1716 - val_loss: 0.0239 - val_mae: 0.2023 - learning_rate: 0.0010\n",
            "Epoch 7/50\n",
            "\u001b[1m59/59\u001b[0m \u001b[32m━━━━━━━━━━━━━━━━━━━━\u001b[0m\u001b[37m\u001b[0m \u001b[1m22s\u001b[0m 339ms/step - loss: 0.0225 - mae: 0.1533 - val_loss: 0.0207 - val_mae: 0.1933 - learning_rate: 0.0010\n",
            "Epoch 8/50\n",
            "\u001b[1m59/59\u001b[0m \u001b[32m━━━━━━━━━━━━━━━━━━━━\u001b[0m\u001b[37m\u001b[0m \u001b[1m18s\u001b[0m 302ms/step - loss: 0.0176 - mae: 0.1393 - val_loss: 0.0585 - val_mae: 0.3285 - learning_rate: 0.0010\n",
            "Epoch 9/50\n",
            "\u001b[1m59/59\u001b[0m \u001b[32m━━━━━━━━━━━━━━━━━━━━\u001b[0m\u001b[37m\u001b[0m \u001b[1m21s\u001b[0m 315ms/step - loss: 0.0160 - mae: 0.1296 - val_loss: 0.0286 - val_mae: 0.2340 - learning_rate: 0.0010\n",
            "Epoch 10/50\n",
            "\u001b[1m59/59\u001b[0m \u001b[32m━━━━━━━━━━━━━━━━━━━━\u001b[0m\u001b[37m\u001b[0m \u001b[1m20s\u001b[0m 313ms/step - loss: 0.0126 - mae: 0.1190 - val_loss: 0.0541 - val_mae: 0.3243 - learning_rate: 0.0010\n",
            "Epoch 11/50\n",
            "\u001b[1m59/59\u001b[0m \u001b[32m━━━━━━━━━━━━━━━━━━━━\u001b[0m\u001b[37m\u001b[0m \u001b[1m20s\u001b[0m 315ms/step - loss: 0.0114 - mae: 0.1051 - val_loss: 0.0065 - val_mae: 0.1055 - learning_rate: 0.0010\n",
            "Epoch 12/50\n",
            "\u001b[1m59/59\u001b[0m \u001b[32m━━━━━━━━━━━━━━━━━━━━\u001b[0m\u001b[37m\u001b[0m \u001b[1m22s\u001b[0m 329ms/step - loss: 0.0066 - mae: 0.0853 - val_loss: 0.0039 - val_mae: 0.0802 - learning_rate: 0.0010\n",
            "Epoch 13/50\n",
            "\u001b[1m59/59\u001b[0m \u001b[32m━━━━━━━━━━━━━━━━━━━━\u001b[0m\u001b[37m\u001b[0m \u001b[1m18s\u001b[0m 312ms/step - loss: 0.0056 - mae: 0.0778 - val_loss: 0.0070 - val_mae: 0.1095 - learning_rate: 0.0010\n",
            "Epoch 14/50\n",
            "\u001b[1m59/59\u001b[0m \u001b[32m━━━━━━━━━━━━━━━━━━━━\u001b[0m\u001b[37m\u001b[0m \u001b[1m18s\u001b[0m 301ms/step - loss: 0.0055 - mae: 0.0762 - val_loss: 7.8751e-04 - val_mae: 0.0320 - learning_rate: 0.0010\n",
            "Epoch 15/50\n",
            "\u001b[1m59/59\u001b[0m \u001b[32m━━━━━━━━━━━━━━━━━━━━\u001b[0m\u001b[37m\u001b[0m \u001b[1m23s\u001b[0m 336ms/step - loss: 0.0050 - mae: 0.0727 - val_loss: 0.0014 - val_mae: 0.0445 - learning_rate: 0.0010\n",
            "Epoch 16/50\n",
            "\u001b[1m59/59\u001b[0m \u001b[32m━━━━━━━━━━━━━━━━━━━━\u001b[0m\u001b[37m\u001b[0m \u001b[1m20s\u001b[0m 328ms/step - loss: 0.0038 - mae: 0.0647 - val_loss: 8.5807e-04 - val_mae: 0.0343 - learning_rate: 0.0010\n",
            "Epoch 17/50\n",
            "\u001b[1m59/59\u001b[0m \u001b[32m━━━━━━━━━━━━━━━━━━━━\u001b[0m\u001b[37m\u001b[0m \u001b[1m22s\u001b[0m 349ms/step - loss: 0.0039 - mae: 0.0688 - val_loss: 7.9316e-04 - val_mae: 0.0320 - learning_rate: 0.0010\n",
            "Epoch 18/50\n",
            "\u001b[1m59/59\u001b[0m \u001b[32m━━━━━━━━━━━━━━━━━━━━\u001b[0m\u001b[37m\u001b[0m \u001b[1m40s\u001b[0m 331ms/step - loss: 0.0026 - mae: 0.0553 - val_loss: 0.0012 - val_mae: 0.0400 - learning_rate: 0.0010\n",
            "Epoch 19/50\n",
            "\u001b[1m59/59\u001b[0m \u001b[32m━━━━━━━━━━━━━━━━━━━━\u001b[0m\u001b[37m\u001b[0m \u001b[1m18s\u001b[0m 303ms/step - loss: 0.0025 - mae: 0.0522 - val_loss: 9.2210e-04 - val_mae: 0.0353 - learning_rate: 0.0010\n",
            "Epoch 20/50\n",
            "\u001b[1m59/59\u001b[0m \u001b[32m━━━━━━━━━━━━━━━━━━━━\u001b[0m\u001b[37m\u001b[0m \u001b[1m20s\u001b[0m 302ms/step - loss: 0.0024 - mae: 0.0515 - val_loss: 0.0017 - val_mae: 0.0476 - learning_rate: 5.0000e-04\n",
            "Epoch 21/50\n",
            "\u001b[1m59/59\u001b[0m \u001b[32m━━━━━━━━━━━━━━━━━━━━\u001b[0m\u001b[37m\u001b[0m \u001b[1m22s\u001b[0m 325ms/step - loss: 0.0026 - mae: 0.0520 - val_loss: 6.8961e-04 - val_mae: 0.0306 - learning_rate: 5.0000e-04\n",
            "Epoch 22/50\n",
            "\u001b[1m59/59\u001b[0m \u001b[32m━━━━━━━━━━━━━━━━━━━━\u001b[0m\u001b[37m\u001b[0m \u001b[1m19s\u001b[0m 297ms/step - loss: 0.0022 - mae: 0.0488 - val_loss: 4.8877e-04 - val_mae: 0.0252 - learning_rate: 5.0000e-04\n",
            "Epoch 23/50\n",
            "\u001b[1m59/59\u001b[0m \u001b[32m━━━━━━━━━━━━━━━━━━━━\u001b[0m\u001b[37m\u001b[0m \u001b[1m22s\u001b[0m 319ms/step - loss: 0.0021 - mae: 0.0519 - val_loss: 6.4227e-04 - val_mae: 0.0291 - learning_rate: 5.0000e-04\n",
            "Epoch 24/50\n",
            "\u001b[1m59/59\u001b[0m \u001b[32m━━━━━━━━━━━━━━━━━━━━\u001b[0m\u001b[37m\u001b[0m \u001b[1m19s\u001b[0m 302ms/step - loss: 0.0022 - mae: 0.0498 - val_loss: 5.3929e-04 - val_mae: 0.0263 - learning_rate: 5.0000e-04\n",
            "Epoch 25/50\n",
            "\u001b[1m59/59\u001b[0m \u001b[32m━━━━━━━━━━━━━━━━━━━━\u001b[0m\u001b[37m\u001b[0m \u001b[1m17s\u001b[0m 294ms/step - loss: 0.0019 - mae: 0.0478 - val_loss: 4.0673e-04 - val_mae: 0.0228 - learning_rate: 5.0000e-04\n",
            "Epoch 26/50\n",
            "\u001b[1m59/59\u001b[0m \u001b[32m━━━━━━━━━━━━━━━━━━━━\u001b[0m\u001b[37m\u001b[0m \u001b[1m23s\u001b[0m 326ms/step - loss: 0.0016 - mae: 0.0437 - val_loss: 5.0745e-04 - val_mae: 0.0252 - learning_rate: 5.0000e-04\n",
            "Epoch 27/50\n",
            "\u001b[1m59/59\u001b[0m \u001b[32m━━━━━━━━━━━━━━━━━━━━\u001b[0m\u001b[37m\u001b[0m \u001b[1m18s\u001b[0m 302ms/step - loss: 0.0018 - mae: 0.0450 - val_loss: 4.5729e-04 - val_mae: 0.0243 - learning_rate: 5.0000e-04\n",
            "Epoch 28/50\n",
            "\u001b[1m59/59\u001b[0m \u001b[32m━━━━━━━━━━━━━━━━━━━━\u001b[0m\u001b[37m\u001b[0m \u001b[1m20s\u001b[0m 288ms/step - loss: 0.0017 - mae: 0.0429 - val_loss: 4.0793e-04 - val_mae: 0.0228 - learning_rate: 2.5000e-04\n",
            "Epoch 29/50\n",
            "\u001b[1m59/59\u001b[0m \u001b[32m━━━━━━━━━━━━━━━━━━━━\u001b[0m\u001b[37m\u001b[0m \u001b[1m19s\u001b[0m 331ms/step - loss: 0.0017 - mae: 0.0391 - val_loss: 0.0011 - val_mae: 0.0409 - learning_rate: 2.5000e-04\n",
            "Epoch 30/50\n",
            "\u001b[1m59/59\u001b[0m \u001b[32m━━━━━━━━━━━━━━━━━━━━\u001b[0m\u001b[37m\u001b[0m \u001b[1m19s\u001b[0m 308ms/step - loss: 0.0015 - mae: 0.0393 - val_loss: 6.2506e-04 - val_mae: 0.0291 - learning_rate: 2.5000e-04\n",
            "Epoch 31/50\n",
            "\u001b[1m59/59\u001b[0m \u001b[32m━━━━━━━━━━━━━━━━━━━━\u001b[0m\u001b[37m\u001b[0m \u001b[1m20s\u001b[0m 297ms/step - loss: 0.0019 - mae: 0.0456 - val_loss: 4.3952e-04 - val_mae: 0.0237 - learning_rate: 2.5000e-04\n",
            "Epoch 32/50\n",
            "\u001b[1m59/59\u001b[0m \u001b[32m━━━━━━━━━━━━━━━━━━━━\u001b[0m\u001b[37m\u001b[0m \u001b[1m20s\u001b[0m 336ms/step - loss: 0.0014 - mae: 0.0423 - val_loss: 4.1479e-04 - val_mae: 0.0227 - learning_rate: 2.5000e-04\n",
            "Epoch 33/50\n",
            "\u001b[1m59/59\u001b[0m \u001b[32m━━━━━━━━━━━━━━━━━━━━\u001b[0m\u001b[37m\u001b[0m \u001b[1m18s\u001b[0m 302ms/step - loss: 0.0012 - mae: 0.0379 - val_loss: 6.4209e-04 - val_mae: 0.0296 - learning_rate: 1.2500e-04\n",
            "Epoch 34/50\n",
            "\u001b[1m59/59\u001b[0m \u001b[32m━━━━━━━━━━━━━━━━━━━━\u001b[0m\u001b[37m\u001b[0m \u001b[1m21s\u001b[0m 305ms/step - loss: 0.0012 - mae: 0.0370 - val_loss: 4.0387e-04 - val_mae: 0.0227 - learning_rate: 1.2500e-04\n",
            "Epoch 35/50\n",
            "\u001b[1m59/59\u001b[0m \u001b[32m━━━━━━━━━━━━━━━━━━━━\u001b[0m\u001b[37m\u001b[0m \u001b[1m20s\u001b[0m 343ms/step - loss: 0.0014 - mae: 0.0381 - val_loss: 4.0468e-04 - val_mae: 0.0226 - learning_rate: 1.2500e-04\n",
            "Epoch 36/50\n",
            "\u001b[1m59/59\u001b[0m \u001b[32m━━━━━━━━━━━━━━━━━━━━\u001b[0m\u001b[37m\u001b[0m \u001b[1m17s\u001b[0m 295ms/step - loss: 0.0013 - mae: 0.0371 - val_loss: 7.2206e-04 - val_mae: 0.0311 - learning_rate: 1.2500e-04\n",
            "Epoch 37/50\n",
            "\u001b[1m59/59\u001b[0m \u001b[32m━━━━━━━━━━━━━━━━━━━━\u001b[0m\u001b[37m\u001b[0m \u001b[1m21s\u001b[0m 302ms/step - loss: 0.0014 - mae: 0.0378 - val_loss: 9.2034e-04 - val_mae: 0.0363 - learning_rate: 1.2500e-04\n",
            "Epoch 38/50\n",
            "\u001b[1m59/59\u001b[0m \u001b[32m━━━━━━━━━━━━━━━━━━━━\u001b[0m\u001b[37m\u001b[0m \u001b[1m20s\u001b[0m 348ms/step - loss: 0.0011 - mae: 0.0357 - val_loss: 3.8669e-04 - val_mae: 0.0222 - learning_rate: 6.2500e-05\n",
            "Epoch 39/50\n",
            "\u001b[1m59/59\u001b[0m \u001b[32m━━━━━━━━━━━━━━━━━━━━\u001b[0m\u001b[37m\u001b[0m \u001b[1m18s\u001b[0m 304ms/step - loss: 0.0012 - mae: 0.0358 - val_loss: 3.5514e-04 - val_mae: 0.0212 - learning_rate: 6.2500e-05\n",
            "Epoch 40/50\n",
            "\u001b[1m59/59\u001b[0m \u001b[32m━━━━━━━━━━━━━━━━━━━━\u001b[0m\u001b[37m\u001b[0m \u001b[1m20s\u001b[0m 290ms/step - loss: 9.9239e-04 - mae: 0.0329 - val_loss: 7.0880e-04 - val_mae: 0.0313 - learning_rate: 6.2500e-05\n",
            "Epoch 41/50\n",
            "\u001b[1m59/59\u001b[0m \u001b[32m━━━━━━━━━━━━━━━━━━━━\u001b[0m\u001b[37m\u001b[0m \u001b[1m20s\u001b[0m 339ms/step - loss: 0.0010 - mae: 0.0350 - val_loss: 4.1456e-04 - val_mae: 0.0230 - learning_rate: 6.2500e-05\n",
            "Epoch 42/50\n",
            "\u001b[1m59/59\u001b[0m \u001b[32m━━━━━━━━━━━━━━━━━━━━\u001b[0m\u001b[37m\u001b[0m \u001b[1m18s\u001b[0m 302ms/step - loss: 0.0010 - mae: 0.0347 - val_loss: 3.3028e-04 - val_mae: 0.0204 - learning_rate: 6.2500e-05\n",
            "Epoch 43/50\n",
            "\u001b[1m59/59\u001b[0m \u001b[32m━━━━━━━━━━━━━━━━━━━━\u001b[0m\u001b[37m\u001b[0m \u001b[1m20s\u001b[0m 338ms/step - loss: 0.0012 - mae: 0.0353 - val_loss: 4.8951e-04 - val_mae: 0.0250 - learning_rate: 6.2500e-05\n",
            "Epoch 44/50\n",
            "\u001b[1m59/59\u001b[0m \u001b[32m━━━━━━━━━━━━━━━━━━━━\u001b[0m\u001b[37m\u001b[0m \u001b[1m24s\u001b[0m 392ms/step - loss: 0.0012 - mae: 0.0369 - val_loss: 3.6753e-04 - val_mae: 0.0214 - learning_rate: 3.1250e-05\n",
            "Epoch 45/50\n",
            "\u001b[1m59/59\u001b[0m \u001b[32m━━━━━━━━━━━━━━━━━━━━\u001b[0m\u001b[37m\u001b[0m \u001b[1m37s\u001b[0m 330ms/step - loss: 0.0011 - mae: 0.0339 - val_loss: 3.6190e-04 - val_mae: 0.0214 - learning_rate: 3.1250e-05\n",
            "Epoch 46/50\n",
            "\u001b[1m59/59\u001b[0m \u001b[32m━━━━━━━━━━━━━━━━━━━━\u001b[0m\u001b[37m\u001b[0m \u001b[1m19s\u001b[0m 308ms/step - loss: 0.0011 - mae: 0.0346 - val_loss: 3.4961e-04 - val_mae: 0.0209 - learning_rate: 3.1250e-05\n",
            "Epoch 47/50\n",
            "\u001b[1m59/59\u001b[0m \u001b[32m━━━━━━━━━━━━━━━━━━━━\u001b[0m\u001b[37m\u001b[0m \u001b[1m18s\u001b[0m 312ms/step - loss: 0.0011 - mae: 0.0345 - val_loss: 3.5727e-04 - val_mae: 0.0213 - learning_rate: 3.1250e-05\n",
            "Epoch 48/50\n",
            "\u001b[1m59/59\u001b[0m \u001b[32m━━━━━━━━━━━━━━━━━━━━\u001b[0m\u001b[37m\u001b[0m \u001b[1m21s\u001b[0m 318ms/step - loss: 0.0013 - mae: 0.0369 - val_loss: 4.7637e-04 - val_mae: 0.0249 - learning_rate: 3.1250e-05\n",
            "Epoch 49/50\n",
            "\u001b[1m59/59\u001b[0m \u001b[32m━━━━━━━━━━━━━━━━━━━━\u001b[0m\u001b[37m\u001b[0m \u001b[1m19s\u001b[0m 295ms/step - loss: 0.0010 - mae: 0.0338 - val_loss: 3.3622e-04 - val_mae: 0.0206 - learning_rate: 1.5625e-05\n",
            "Epoch 50/50\n",
            "\u001b[1m59/59\u001b[0m \u001b[32m━━━━━━━━━━━━━━━━━━━━\u001b[0m\u001b[37m\u001b[0m \u001b[1m23s\u001b[0m 333ms/step - loss: 0.0012 - mae: 0.0352 - val_loss: 3.4837e-04 - val_mae: 0.0210 - learning_rate: 1.5625e-05\n"
          ]
        }
      ]
    },
    {
      "cell_type": "code",
      "source": [
        "plt.figure(figsize=(10, 6))\n",
        "plt.plot(history_lstm.history['loss'], label='Training Loss')\n",
        "plt.plot(history_lstm.history['val_loss'], label='Validation Loss')\n",
        "plt.title('Model Loss LSTM')\n",
        "plt.xlabel('Epoch')\n",
        "plt.ylabel('Loss')\n",
        "plt.legend()\n",
        "plt.grid(True)\n",
        "plt.show()"
      ],
      "metadata": {
        "id": "xrMKDTpIGXNP"
      },
      "execution_count": null,
      "outputs": []
    },
    {
      "cell_type": "code",
      "source": [
        "#Predicting the price for a month in the horizon\n",
        "\n",
        "horizon = 7\n",
        "\n",
        "last_date = final_data.index[-1]\n",
        "future_dates = pd.date_range(start=last_date + pd.Timedelta(days=1), periods=horizon, freq='B')\n",
        "last_sequence = X_test[-1]"
      ],
      "metadata": {
        "id": "_uja8la7Gz8G"
      },
      "execution_count": null,
      "outputs": []
    },
    {
      "cell_type": "code",
      "source": [
        "#Prediction using lstm only\n",
        "future_pred_lstm = forecast_future(model_lstm, last_sequence, scaler, horizon)"
      ],
      "metadata": {
        "id": "yoxd9hE4VlkI"
      },
      "execution_count": null,
      "outputs": []
    },
    {
      "cell_type": "code",
      "source": [
        "plt.figure(figsize=(25, 6))\n",
        "\n",
        "plt.plot(final_data.index[-15:], final_data['Close_GC=F'].values[-15:], label='Historical Prices', color='green')\n",
        "\n",
        "\n",
        "plt.plot(future_dates, future_pred_lstm, label='Forecasted Prices', linestyle='--', color='blue')\n",
        "plt.title('Gold Price Forecast LSTM')\n",
        "plt.xlabel('Date')\n",
        "plt.ylabel('Price')\n",
        "plt.legend()\n",
        "plt.grid(True)\n",
        "plt.tight_layout()\n",
        "plt.show()"
      ],
      "metadata": {
        "id": "9lremMH_H0t9",
        "colab": {
          "base_uri": "https://localhost:8080/",
          "height": 487
        },
        "outputId": "dc07fd4a-41a0-4e3a-86f2-d1397e83a187"
      },
      "execution_count": null,
      "outputs": [
        {
          "output_type": "display_data",
          "data": {
            "text/plain": [
              "<Figure size 2500x600 with 1 Axes>"
            ],
            "image/png": "[encoded data removed]"
          },
          "metadata": {}
        }
      ]
    },
    {
      "cell_type": "code",
      "source": [
        "print(future_dates)"
      ],
      "metadata": {
        "colab": {
          "base_uri": "https://localhost:8080/"
        },
        "id": "SlQdxVvqP5JD",
        "outputId": "e06d2645-9422-4601-c578-684a3fec432b"
      },
      "execution_count": null,
      "outputs": [
        {
          "output_type": "stream",
          "name": "stdout",
          "text": [
            "DatetimeIndex(['2024-12-12', '2024-12-13', '2024-12-16', '2024-12-17',\n",
            "               '2024-12-18', '2024-12-19', '2024-12-20'],\n",
            "              dtype='datetime64[ns]', freq='B')\n"
          ]
        }
      ]
    },
    {
      "cell_type": "code",
      "source": [
        "\n",
        "real_future_data = yf.download(tickers, start= '2024-12-12', end='2024-12-20', interval='1d')\n"
      ],
      "metadata": {
        "colab": {
          "base_uri": "https://localhost:8080/"
        },
        "id": "Hox8nAmYP-FC",
        "outputId": "6948c8d0-18e5-4733-fb2d-ef5e8e05f92b"
      },
      "execution_count": null,
      "outputs": [
        {
          "output_type": "stream",
          "name": "stderr",
          "text": [
            "\r[*********************100%***********************]  1 of 1 completed\n"
          ]
        }
      ]
    },
    {
      "cell_type": "code",
      "source": [
        "creating_features(real_future_data).head()"
      ],
      "metadata": {
        "colab": {
          "base_uri": "https://localhost:8080/",
          "height": 237
        },
        "id": "bHhVXAnuQOIP",
        "outputId": "42f66854-4df2-4d8e-bc19-37c3feeb8b89"
      },
      "execution_count": null,
      "outputs": [
        {
          "output_type": "execute_result",
          "data": {
            "text/plain": [
              "             Close_GC=F\n",
              "Date                   \n",
              "2024-12-12  2687.500000\n",
              "2024-12-13  2656.000000\n",
              "2024-12-16  2651.399902\n",
              "2024-12-17  2644.399902\n",
              "2024-12-18  2636.500000"
            ],
            "text/html": [
              "\n",
              "  <div id=\"df-33773c4b-e2f1-402b-b507-718fd42d90e2\" class=\"colab-df-container\">\n",
              "    <div>\n",
              "<style scoped>\n",
              "    .dataframe tbody tr th:only-of-type {\n",
              "        vertical-align: middle;\n",
              "    }\n",
              "\n",
              "    .dataframe tbody tr th {\n",
              "        vertical-align: top;\n",
              "    }\n",
              "\n",
              "    .dataframe thead th {\n",
              "        text-align: right;\n",
              "    }\n",
              "</style>\n",
              "<table border=\"1\" class=\"dataframe\">\n",
              "  <thead>\n",
              "    <tr style=\"text-align: right;\">\n",
              "      <th></th>\n",
              "      <th>Close_GC=F</th>\n",
              "    </tr>\n",
              "    <tr>\n",
              "      <th>Date</th>\n",
              "      <th></th>\n",
              "    </tr>\n",
              "  </thead>\n",
              "  <tbody>\n",
              "    <tr>\n",
              "      <th>2024-12-12</th>\n",
              "      <td>2687.500000</td>\n",
              "    </tr>\n",
              "    <tr>\n",
              "      <th>2024-12-13</th>\n",
              "      <td>2656.000000</td>\n",
              "    </tr>\n",
              "    <tr>\n",
              "      <th>2024-12-16</th>\n",
              "      <td>2651.399902</td>\n",
              "    </tr>\n",
              "    <tr>\n",
              "      <th>2024-12-17</th>\n",
              "      <td>2644.399902</td>\n",
              "    </tr>\n",
              "    <tr>\n",
              "      <th>2024-12-18</th>\n",
              "      <td>2636.500000</td>\n",
              "    </tr>\n",
              "  </tbody>\n",
              "</table>\n",
              "</div>\n",
              "    <div class=\"colab-df-buttons\">\n",
              "\n",
              "  <div class=\"colab-df-container\">\n",
              "    <button class=\"colab-df-convert\" onclick=\"convertToInteractive('df-33773c4b-e2f1-402b-b507-718fd42d90e2')\"\n",
              "            title=\"Convert this dataframe to an interactive table.\"\n",
              "            style=\"display:none;\">\n",
              "\n",
              "  <svg xmlns=\"http://www.w3.org/2000/svg\" height=\"24px\" viewBox=\"0 -960 960 960\">\n",
              "    <path d=\"M120-120v-720h720v720H120Zm60-500h600v-160H180v160Zm220 220h160v-160H400v160Zm0 220h160v-160H400v160ZM180-400h160v-160H180v160Zm440 0h160v-160H620v160ZM180-180h160v-160H180v160Zm440 0h160v-160H620v160Z\"/>\n",
              "  </svg>\n",
              "    </button>\n",
              "\n",
              "  <style>\n",
              "    .colab-df-container {\n",
              "      display:flex;\n",
              "      gap: 12px;\n",
              "    }\n",
              "\n",
              "    .colab-df-convert {\n",
              "      background-color: #E8F0FE;\n",
              "      border: none;\n",
              "      border-radius: 50%;\n",
              "      cursor: pointer;\n",
              "      display: none;\n",
              "      fill: #1967D2;\n",
              "      height: 32px;\n",
              "      padding: 0 0 0 0;\n",
              "      width: 32px;\n",
              "    }\n",
              "\n",
              "    .colab-df-convert:hover {\n",
              "      background-color: #E2EBFA;\n",
              "      box-shadow: 0px 1px 2px rgba(60, 64, 67, 0.3), 0px 1px 3px 1px rgba(60, 64, 67, 0.15);\n",
              "      fill: #174EA6;\n",
              "    }\n",
              "\n",
              "    .colab-df-buttons div {\n",
              "      margin-bottom: 4px;\n",
              "    }\n",
              "\n",
              "    [theme=dark] .colab-df-convert {\n",
              "      background-color: #3B4455;\n",
              "      fill: #D2E3FC;\n",
              "    }\n",
              "\n",
              "    [theme=dark] .colab-df-convert:hover {\n",
              "      background-color: #434B5C;\n",
              "      box-shadow: 0px 1px 3px 1px rgba(0, 0, 0, 0.15);\n",
              "      filter: drop-shadow(0px 1px 2px rgba(0, 0, 0, 0.3));\n",
              "      fill: #FFFFFF;\n",
              "    }\n",
              "  </style>\n",
              "\n",
              "    <script>\n",
              "      const buttonEl =\n",
              "        document.querySelector('#df-33773c4b-e2f1-402b-b507-718fd42d90e2 button.colab-df-convert');\n",
              "      buttonEl.style.display =\n",
              "        google.colab.kernel.accessAllowed ? 'block' : 'none';\n",
              "\n",
              "      async function convertToInteractive(key) {\n",
              "        const element = document.querySelector('#df-33773c4b-e2f1-402b-b507-718fd42d90e2');\n",
              "        const dataTable =\n",
              "          await google.colab.kernel.invokeFunction('convertToInteractive',\n",
              "                                                    [key], {});\n",
              "        if (!dataTable) return;\n",
              "\n",
              "        const docLinkHtml = 'Like what you see? Visit the ' +\n",
              "          '<a target=\"_blank\" href=https://colab.research.google.com/notebooks/data_table.ipynb>data table notebook</a>'\n",
              "          + ' to learn more about interactive tables.';\n",
              "        element.innerHTML = '';\n",
              "        dataTable['output_type'] = 'display_data';\n",
              "        await google.colab.output.renderOutput(dataTable, element);\n",
              "        const docLink = document.createElement('div');\n",
              "        docLink.innerHTML = docLinkHtml;\n",
              "        element.appendChild(docLink);\n",
              "      }\n",
              "    </script>\n",
              "  </div>\n",
              "\n",
              "\n",
              "<div id=\"df-a0625666-efc9-46f3-9539-d59036be366d\">\n",
              "  <button class=\"colab-df-quickchart\" onclick=\"quickchart('df-a0625666-efc9-46f3-9539-d59036be366d')\"\n",
              "            title=\"Suggest charts\"\n",
              "            style=\"display:none;\">\n",
              "\n",
              "<svg xmlns=\"http://www.w3.org/2000/svg\" height=\"24px\"viewBox=\"0 0 24 24\"\n",
              "     width=\"24px\">\n",
              "    <g>\n",
              "        <path d=\"M19 3H5c-1.1 0-2 .9-2 2v14c0 1.1.9 2 2 2h14c1.1 0 2-.9 2-2V5c0-1.1-.9-2-2-2zM9 17H7v-7h2v7zm4 0h-2V7h2v10zm4 0h-2v-4h2v4z\"/>\n",
              "    </g>\n",
              "</svg>\n",
              "  </button>\n",
              "\n",
              "<style>\n",
              "  .colab-df-quickchart {\n",
              "      --bg-color: #E8F0FE;\n",
              "      --fill-color: #1967D2;\n",
              "      --hover-bg-color: #E2EBFA;\n",
              "      --hover-fill-color: #174EA6;\n",
              "      --disabled-fill-color: #AAA;\n",
              "      --disabled-bg-color: #DDD;\n",
              "  }\n",
              "\n",
              "  [theme=dark] .colab-df-quickchart {\n",
              "      --bg-color: #3B4455;\n",
              "      --fill-color: #D2E3FC;\n",
              "      --hover-bg-color: #434B5C;\n",
              "      --hover-fill-color: #FFFFFF;\n",
              "      --disabled-bg-color: #3B4455;\n",
              "      --disabled-fill-color: #666;\n",
              "  }\n",
              "\n",
              "  .colab-df-quickchart {\n",
              "    background-color: var(--bg-color);\n",
              "    border: none;\n",
              "    border-radius: 50%;\n",
              "    cursor: pointer;\n",
              "    display: none;\n",
              "    fill: var(--fill-color);\n",
              "    height: 32px;\n",
              "    padding: 0;\n",
              "    width: 32px;\n",
              "  }\n",
              "\n",
              "  .colab-df-quickchart:hover {\n",
              "    background-color: var(--hover-bg-color);\n",
              "    box-shadow: 0 1px 2px rgba(60, 64, 67, 0.3), 0 1px 3px 1px rgba(60, 64, 67, 0.15);\n",
              "    fill: var(--button-hover-fill-color);\n",
              "  }\n",
              "\n",
              "  .colab-df-quickchart-complete:disabled,\n",
              "  .colab-df-quickchart-complete:disabled:hover {\n",
              "    background-color: var(--disabled-bg-color);\n",
              "    fill: var(--disabled-fill-color);\n",
              "    box-shadow: none;\n",
              "  }\n",
              "\n",
              "  .colab-df-spinner {\n",
              "    border: 2px solid var(--fill-color);\n",
              "    border-color: transparent;\n",
              "    border-bottom-color: var(--fill-color);\n",
              "    animation:\n",
              "      spin 1s steps(1) infinite;\n",
              "  }\n",
              "\n",
              "  @keyframes spin {\n",
              "    0% {\n",
              "      border-color: transparent;\n",
              "      border-bottom-color: var(--fill-color);\n",
              "      border-left-color: var(--fill-color);\n",
              "    }\n",
              "    20% {\n",
              "      border-color: transparent;\n",
              "      border-left-color: var(--fill-color);\n",
              "      border-top-color: var(--fill-color);\n",
              "    }\n",
              "    30% {\n",
              "      border-color: transparent;\n",
              "      border-left-color: var(--fill-color);\n",
              "      border-top-color: var(--fill-color);\n",
              "      border-right-color: var(--fill-color);\n",
              "    }\n",
              "    40% {\n",
              "      border-color: transparent;\n",
              "      border-right-color: var(--fill-color);\n",
              "      border-top-color: var(--fill-color);\n",
              "    }\n",
              "    60% {\n",
              "      border-color: transparent;\n",
              "      border-right-color: var(--fill-color);\n",
              "    }\n",
              "    80% {\n",
              "      border-color: transparent;\n",
              "      border-right-color: var(--fill-color);\n",
              "      border-bottom-color: var(--fill-color);\n",
              "    }\n",
              "    90% {\n",
              "      border-color: transparent;\n",
              "      border-bottom-color: var(--fill-color);\n",
              "    }\n",
              "  }\n",
              "</style>\n",
              "\n",
              "  <script>\n",
              "    async function quickchart(key) {\n",
              "      const quickchartButtonEl =\n",
              "        document.querySelector('#' + key + ' button');\n",
              "      quickchartButtonEl.disabled = true;  // To prevent multiple clicks.\n",
              "      quickchartButtonEl.classList.add('colab-df-spinner');\n",
              "      try {\n",
              "        const charts = await google.colab.kernel.invokeFunction(\n",
              "            'suggestCharts', [key], {});\n",
              "      } catch (error) {\n",
              "        console.error('Error during call to suggestCharts:', error);\n",
              "      }\n",
              "      quickchartButtonEl.classList.remove('colab-df-spinner');\n",
              "      quickchartButtonEl.classList.add('colab-df-quickchart-complete');\n",
              "    }\n",
              "    (() => {\n",
              "      let quickchartButtonEl =\n",
              "        document.querySelector('#df-a0625666-efc9-46f3-9539-d59036be366d button');\n",
              "      quickchartButtonEl.style.display =\n",
              "        google.colab.kernel.accessAllowed ? 'block' : 'none';\n",
              "    })();\n",
              "  </script>\n",
              "</div>\n",
              "\n",
              "    </div>\n",
              "  </div>\n"
            ],
            "application/vnd.google.colaboratory.intrinsic+json": {
              "type": "dataframe",
              "summary": "{\n  \"name\": \"creating_features(real_future_data)\",\n  \"rows\": 5,\n  \"fields\": [\n    {\n      \"column\": \"Date\",\n      \"properties\": {\n        \"dtype\": \"date\",\n        \"min\": \"2024-12-12 00:00:00\",\n        \"max\": \"2024-12-18 00:00:00\",\n        \"num_unique_values\": 5,\n        \"samples\": [\n          \"2024-12-13 00:00:00\",\n          \"2024-12-18 00:00:00\",\n          \"2024-12-16 00:00:00\"\n        ],\n        \"semantic_type\": \"\",\n        \"description\": \"\"\n      }\n    },\n    {\n      \"column\": \"Close_GC=F\",\n      \"properties\": {\n        \"dtype\": \"number\",\n        \"std\": 19.52367047937544,\n        \"min\": 2636.5,\n        \"max\": 2687.5,\n        \"num_unique_values\": 5,\n        \"samples\": [\n          2656.0,\n          2636.5,\n          2651.39990234375\n        ],\n        \"semantic_type\": \"\",\n        \"description\": \"\"\n      }\n    }\n  ]\n}"
            }
          },
          "metadata": {},
          "execution_count": 48
        }
      ]
    }
  ],
  "metadata": {
    "kernelspec": {
      "display_name": "crysto_env",
      "language": "python",
      "name": "crysto_env"
    },
    "language_info": {
      "codemirror_mode": {
        "name": "ipython",
        "version": 3
      },
      "file_extension": ".py",
      "mimetype": "text/x-python",
      "name": "python",
      "nbconvert_exporter": "python",
      "pygments_lexer": "ipython3",
      "version": "3.13.0"
    },
    "colab": {
      "provenance": []
    }
  },
  "nbformat": 4,
  "nbformat_minor": 0
}